{
 "cells": [
  {
   "cell_type": "markdown",
   "id": "cdb60038",
   "metadata": {},
   "source": [
    "# Imports"
   ]
  },
  {
   "cell_type": "code",
   "execution_count": 11,
   "id": "98c9d548",
   "metadata": {},
   "outputs": [],
   "source": [
    "import os\n",
    "import random\n",
    "import pandas as pd\n",
    "from pydub import AudioSegment\n",
    "from midi2audio import FluidSynth\n",
    "from mido import Message, MidiFile, MidiTrack\n",
    "import pygame\n",
    "import librosa\n",
    "import librosa.display\n",
    "import numpy as np\n",
    "import matplotlib.pyplot as plt\n",
    "import time\n",
    "import cv2\n",
    "\n",
    "midi_file = 'random.mid'\n",
    "wave_file = 'output.wav'"
   ]
  },
  {
   "cell_type": "markdown",
   "id": "1356df8b",
   "metadata": {},
   "source": [
    "# Note map"
   ]
  },
  {
   "cell_type": "code",
   "execution_count": 12,
   "id": "92c979d7",
   "metadata": {},
   "outputs": [],
   "source": [
    "note_map = {\n",
    "    0: 45,\n",
    "    1: 47,\n",
    "    2: 48,\n",
    "    3: 50,\n",
    "    4: 52,\n",
    "    5: 53,\n",
    "    6: 55\n",
    "}"
   ]
  },
  {
   "cell_type": "markdown",
   "id": "42d1d4ef",
   "metadata": {},
   "source": [
    "# Helpers"
   ]
  },
  {
   "cell_type": "markdown",
   "id": "f91d9908",
   "metadata": {},
   "source": [
    "### get spectogram"
   ]
  },
  {
   "cell_type": "code",
   "execution_count": 13,
   "id": "fe1be60d",
   "metadata": {},
   "outputs": [],
   "source": [
    "def getSpectogram(wave_file, sample_rate=12_800, n_fft=2048, hop_length=256, n_mels=512):\n",
    "    samples, sr = librosa.load(wave_file, sr=sample_rate)\n",
    "    mel_spectrogram = librosa.feature.melspectrogram(\n",
    "        y=samples, sr=sr, n_fft=n_fft, hop_length=hop_length, n_mels=n_mels)\n",
    "    mel_spectrogram_db = librosa.power_to_db(mel_spectrogram, ref=np.max)\n",
    "\n",
    "    return mel_spectrogram_db, sr"
   ]
  },
  {
   "cell_type": "markdown",
   "id": "c4ab9fb3",
   "metadata": {},
   "source": [
    "### get simplified spectogram"
   ]
  },
  {
   "cell_type": "code",
   "execution_count": 14,
   "id": "64106912",
   "metadata": {},
   "outputs": [],
   "source": [
    "def getSimpleSpectogram(wave_file: str, note_map: dict, sample_rate=12_800, n_fft=2048, hop_length=256, n_mels=512):\n",
    "    spec, sr = getSpectogram(wave_file, sample_rate=sample_rate, n_fft=n_fft, hop_length=hop_length, n_mels=n_mels)\n",
    "    mel_frequencies = librosa.mel_frequencies(n_mels=spec.shape[0], fmin=0, fmax=sr / 2)\n",
    "    note_freqs = pd.read_csv('note_freqs.csv').values\n",
    "    indexes = np.array([mel_frequencies[np.abs(mel_frequencies - val).argmin()] for val in note_freqs])\n",
    "    indexes = np.array([np.where(mel_frequencies == val)[0][0] for val in indexes])\n",
    "    indexes = indexes[list(note_map.values())]\n",
    "    new_spec = spec[indexes]\n",
    "    return new_spec, sr, mel_frequencies[indexes]"
   ]
  },
  {
   "cell_type": "markdown",
   "id": "e0a18f24",
   "metadata": {},
   "source": [
    "### generate random midi"
   ]
  },
  {
   "cell_type": "code",
   "execution_count": 15,
   "id": "8ee08b1e",
   "metadata": {},
   "outputs": [],
   "source": [
    "def generate_midi(midi_file: str, note_map: dict, length=32, interval=500):\n",
    "    midi = MidiFile()\n",
    "    track = MidiTrack()\n",
    "    midi.tracks.append(track)\n",
    "    note_count = len(note_map)\n",
    "    \n",
    "\n",
    "    active = np.zeros(note_count, dtype=np.byte)\n",
    "    cooldown = 0\n",
    "    for _ in range(length):\n",
    "        cooldown += interval\n",
    "        off_notes = (np.random.rand(note_count) < 0.2).astype(np.byte) & active\n",
    "        for i in np.where(off_notes)[0]:\n",
    "            track.append(Message('note_on', note=note_map[int(i)], velocity=0, time=cooldown))\n",
    "            active[i] = 0\n",
    "            cooldown = 0\n",
    "\n",
    "        on_notes = (np.random.rand(note_count) < 0.1).astype(np.byte) & ~active\n",
    "        for i in np.where(on_notes)[0]:\n",
    "            track.append(Message('note_on', note=note_map[int(i)], velocity=100, time=cooldown))\n",
    "            active[i] = 1\n",
    "            cooldown = 0\n",
    "\n",
    "    cooldown = interval\n",
    "    for i in np.where(active)[0]:\n",
    "        track.append(Message('note_on', note=note_map[int(i)], velocity=0, time=cooldown))\n",
    "        active[i] = 0\n",
    "        cooldown = 0\n",
    "\n",
    "    midi.save(midi_file)"
   ]
  },
  {
   "cell_type": "markdown",
   "id": "0c952881",
   "metadata": {},
   "source": [
    "### plot simple spec"
   ]
  },
  {
   "cell_type": "code",
   "execution_count": 16,
   "id": "6b6f54bd",
   "metadata": {},
   "outputs": [],
   "source": [
    "def plot_spec(wave_file, note_map):\n",
    "    spec, sr, freqs = getSimpleSpectogram(wave_file, note_map)\n",
    "    plt.figure(figsize=(10, 5))\n",
    "    plt.imshow(spec, aspect='auto', interpolation='nearest', origin='lower')\n",
    "    plt.yticks(ticks=np.arange(len(freqs)), labels=np.round(freqs, 2))\n",
    "    plt.colorbar(format='%+2.0f dB')\n",
    "    plt.show()"
   ]
  },
  {
   "cell_type": "markdown",
   "id": "1b82488a",
   "metadata": {},
   "source": [
    "# Example"
   ]
  },
  {
   "cell_type": "code",
   "execution_count": 17,
   "id": "33fe5b7b",
   "metadata": {},
   "outputs": [],
   "source": [
    "# generate_midi(midi_file, note_map, length=16, interval=300)\n",
    "# midi_df = midi_to_df(midi_file)\n",
    "# midi_to_audio(midi_file, wave_file)\n",
    "# midi_df"
   ]
  },
  {
   "cell_type": "code",
   "execution_count": 18,
   "id": "c9e403f7",
   "metadata": {},
   "outputs": [],
   "source": [
    "# pygame.init()\n",
    "# pygame.mixer.init()\n",
    "# pygame.mixer.music.load(midi_file)\n",
    "# pygame.mixer.music.play()"
   ]
  },
  {
   "cell_type": "code",
   "execution_count": 19,
   "id": "f910efdd",
   "metadata": {},
   "outputs": [],
   "source": [
    "output_dir = 'my_midi'\n",
    "if not os.path.exists(output_dir):\n",
    "    os.makedirs(output_dir)\n",
    "\n",
    "files = []\n",
    "for i in range(100):\n",
    "    mf = f'{output_dir}/{i}.mid'\n",
    "    generate_midi(mf, note_map, length=1024, interval=300)\n",
    "    files.append(mf)\n",
    "\n",
    "pd.DataFrame(files, columns=['midi_filename']).to_csv('midi_files.csv', index=False)\n"
   ]
  }
 ],
 "metadata": {
  "kernelspec": {
   "display_name": "midi",
   "language": "python",
   "name": "python3"
  },
  "language_info": {
   "codemirror_mode": {
    "name": "ipython",
    "version": 3
   },
   "file_extension": ".py",
   "mimetype": "text/x-python",
   "name": "python",
   "nbconvert_exporter": "python",
   "pygments_lexer": "ipython3",
   "version": "3.13.2"
  }
 },
 "nbformat": 4,
 "nbformat_minor": 5
}
