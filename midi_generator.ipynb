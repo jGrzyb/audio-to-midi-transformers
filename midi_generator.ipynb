{
 "cells": [
  {
   "cell_type": "markdown",
   "id": "cdb60038",
   "metadata": {},
   "source": [
    "# Imports"
   ]
  },
  {
   "cell_type": "code",
   "execution_count": 14,
   "id": "98c9d548",
   "metadata": {},
   "outputs": [],
   "source": [
    "import os\n",
    "import random\n",
    "import pandas as pd\n",
    "from pydub import AudioSegment\n",
    "from midi2audio import FluidSynth\n",
    "from mido import Message, MidiFile, MidiTrack\n",
    "import pygame\n",
    "import librosa\n",
    "import librosa.display\n",
    "import numpy as np\n",
    "import matplotlib.pyplot as plt\n",
    "import time\n",
    "import cv2\n",
    "\n",
    "midi_file = 'random.mid'\n",
    "wave_file = 'output.wav'"
   ]
  },
  {
   "cell_type": "markdown",
   "id": "1356df8b",
   "metadata": {},
   "source": [
    "# Note map"
   ]
  },
  {
   "cell_type": "code",
   "execution_count": 15,
   "id": "92c979d7",
   "metadata": {},
   "outputs": [],
   "source": [
    "note_map = [45, 47, 48, 50, 52, 53, 55]"
   ]
  },
  {
   "cell_type": "markdown",
   "id": "42d1d4ef",
   "metadata": {},
   "source": [
    "# Generator"
   ]
  },
  {
   "cell_type": "code",
   "execution_count": 16,
   "id": "8ee08b1e",
   "metadata": {},
   "outputs": [],
   "source": [
    "def generate_midi(midi_file: str, note_map: dict, length=32, interval=500):\n",
    "    midi = MidiFile()\n",
    "    track = MidiTrack()\n",
    "    midi.tracks.append(track)\n",
    "    note_count = len(note_map)\n",
    "    \n",
    "\n",
    "    active = np.zeros(note_count, dtype=np.byte)\n",
    "    cooldown = 0\n",
    "    for _ in range(length):\n",
    "        cooldown += interval\n",
    "        off_notes = (np.random.rand(note_count) < 0.2).astype(np.byte) & active\n",
    "        for i in np.where(off_notes)[0]:\n",
    "            track.append(Message('note_on', note=note_map[int(i)], velocity=0, time=cooldown))\n",
    "            active[i] = 0\n",
    "            cooldown = 0\n",
    "\n",
    "        on_notes = (np.random.rand(note_count) < 0.1).astype(np.byte) & ~active\n",
    "        for i in np.where(on_notes)[0]:\n",
    "            track.append(Message('note_on', note=note_map[int(i)], velocity=100, time=cooldown))\n",
    "            active[i] = 1\n",
    "            cooldown = 0\n",
    "\n",
    "    cooldown = interval\n",
    "    for i in np.where(active)[0]:\n",
    "        track.append(Message('note_on', note=note_map[int(i)], velocity=0, time=cooldown))\n",
    "        active[i] = 0\n",
    "        cooldown = 0\n",
    "\n",
    "    midi.save(midi_file)"
   ]
  },
  {
   "cell_type": "markdown",
   "id": "1b82488a",
   "metadata": {},
   "source": [
    "# Example"
   ]
  },
  {
   "cell_type": "code",
   "execution_count": 20,
   "id": "33fe5b7b",
   "metadata": {},
   "outputs": [],
   "source": [
    "generate_midi(midi_file, note_map, length=16, interval=300)"
   ]
  },
  {
   "cell_type": "code",
   "execution_count": 21,
   "id": "c9e403f7",
   "metadata": {},
   "outputs": [],
   "source": [
    "pygame.init()\n",
    "pygame.mixer.init()\n",
    "pygame.mixer.music.load(midi_file)\n",
    "pygame.mixer.music.play()"
   ]
  },
  {
   "cell_type": "code",
   "execution_count": 19,
   "id": "f910efdd",
   "metadata": {},
   "outputs": [],
   "source": [
    "# output_dir = 'my_midi'\n",
    "# if not os.path.exists(output_dir):\n",
    "#     os.makedirs(output_dir)\n",
    "\n",
    "# files = []\n",
    "# for i in range(100):\n",
    "#     mf = f'{output_dir}/{i}.mid'\n",
    "#     generate_midi(mf, note_map, length=1024, interval=300)\n",
    "#     files.append(mf)\n",
    "\n",
    "# pd.DataFrame(files, columns=['midi_filename']).to_csv('midi_files.csv', index=False)\n"
   ]
  }
 ],
 "metadata": {
  "kernelspec": {
   "display_name": "midi",
   "language": "python",
   "name": "python3"
  },
  "language_info": {
   "codemirror_mode": {
    "name": "ipython",
    "version": 3
   },
   "file_extension": ".py",
   "mimetype": "text/x-python",
   "name": "python",
   "nbconvert_exporter": "python",
   "pygments_lexer": "ipython3",
   "version": "3.13.2"
  }
 },
 "nbformat": 4,
 "nbformat_minor": 5
}
