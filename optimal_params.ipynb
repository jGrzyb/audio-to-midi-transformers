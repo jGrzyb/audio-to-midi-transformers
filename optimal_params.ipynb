{
 "cells": [
  {
   "cell_type": "code",
   "execution_count": 11,
   "id": "e214158b",
   "metadata": {},
   "outputs": [],
   "source": [
    "import pandas as pd\n",
    "import os\n",
    "from itertools import product"
   ]
  },
  {
   "cell_type": "code",
   "execution_count": 12,
   "id": "37db341b",
   "metadata": {},
   "outputs": [],
   "source": [
    "def get_song_stats(df: pd.DataFrame):\n",
    "    l = []\n",
    "    for i, (idx, row) in enumerate(df.iterrows()):\n",
    "        with open(row['midi']) as f:\n",
    "            tmp = pd.read_csv(f)\n",
    "            l.append([row.index, tmp['note'].min(),\n",
    "                     tmp['note'].max(), len(tmp)])\n",
    "\n",
    "    tmp = pd.DataFrame(l, columns=['index', 'note_min', 'note_max', 'len'])\n",
    "    tmp = tmp.dropna()\n",
    "    return tmp"
   ]
  },
  {
   "cell_type": "code",
   "execution_count": 13,
   "id": "aef8052c",
   "metadata": {},
   "outputs": [],
   "source": [
    "def get_optimal_params(song_stats: pd.DataFrame, percentage: float = 0.8):\n",
    "    min_note = 108\n",
    "    for i in range(108, 20, -1):\n",
    "        if len(song_stats[song_stats['note_min'] >= i]) / len(song_stats) > percentage:\n",
    "            min_note = i\n",
    "            break\n",
    "\n",
    "    max_note = 20\n",
    "    for i in range(20, 110):\n",
    "        if len(song_stats[song_stats['note_max'] <= i]) / len(song_stats) > percentage:\n",
    "            max_note = i\n",
    "            break\n",
    "\n",
    "    max_len = 110\n",
    "    for i in range(110, 344):\n",
    "        if len(song_stats[song_stats['len'] <= i]) / len(song_stats) > percentage:\n",
    "            max_len = i\n",
    "            break\n",
    "\n",
    "    optimal_stats = {\n",
    "        \"min_note\": min_note,\n",
    "        \"max_note\": max_note,\n",
    "        \"max_len\": max_len\n",
    "    }\n",
    "    optimal_sum = 10000\n",
    "\n",
    "    for i in product(range(min_note - 10, min_note), range(max_note, max_note + 20), range(max_len, max_len + 50)):\n",
    "        param_sum = i[1] - i[0] + i[2] * 3\n",
    "        how_good = len(song_stats[(song_stats['note_min'] >= i[0]) & (song_stats['note_max'] <= i[1]) & (song_stats['len'] <= i[2])]) / len(song_stats)\n",
    "        if param_sum < optimal_sum and how_good > percentage:\n",
    "            optimal_sum = param_sum\n",
    "            optimal_stats[\"min_note\"] = i[0]\n",
    "            optimal_stats[\"max_note\"] = i[1]\n",
    "            optimal_stats[\"max_len\"] = i[2]\n",
    "            optimal_stats[\"param_sum\"] = param_sum\n",
    "            optimal_stats[\"percentage\"] = how_good\n",
    "    return optimal_stats"
   ]
  },
  {
   "cell_type": "code",
   "execution_count": 14,
   "id": "85c19cff",
   "metadata": {},
   "outputs": [],
   "source": [
    "df = pd.read_csv('dataset.csv')\n",
    "df['image'] = df['image'].apply(lambda x: os.path.join('dataset', x))\n",
    "df['midi'] = df['midi'].apply(lambda x: os.path.join('dataset', x))"
   ]
  },
  {
   "cell_type": "code",
   "execution_count": 15,
   "id": "f76507a9",
   "metadata": {},
   "outputs": [],
   "source": [
    "song_stats = get_song_stats(df)"
   ]
  },
  {
   "cell_type": "code",
   "execution_count": 16,
   "id": "27a4bde8",
   "metadata": {},
   "outputs": [
    {
     "name": "stdout",
     "output_type": "stream",
     "text": [
      "min_note: 27\n",
      "max_note: 98\n",
      "max_len: 110\n",
      "param_sum: 401\n",
      "percentage: 0.8016948660649506\n"
     ]
    }
   ],
   "source": [
    "optimal_params = get_optimal_params(song_stats, percentage=0.8)\n",
    "for key, value in optimal_params.items():\n",
    "    print(f\"{key}: {value}\")"
   ]
  }
 ],
 "metadata": {
  "kernelspec": {
   "display_name": "midi",
   "language": "python",
   "name": "python3"
  },
  "language_info": {
   "codemirror_mode": {
    "name": "ipython",
    "version": 3
   },
   "file_extension": ".py",
   "mimetype": "text/x-python",
   "name": "python",
   "nbconvert_exporter": "python",
   "pygments_lexer": "ipython3",
   "version": "3.13.2"
  }
 },
 "nbformat": 4,
 "nbformat_minor": 5
}
