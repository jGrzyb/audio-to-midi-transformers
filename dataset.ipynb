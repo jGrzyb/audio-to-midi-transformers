{
 "cells": [
  {
   "cell_type": "markdown",
   "id": "1dc3b18e",
   "metadata": {},
   "source": [
    "# Imports"
   ]
  },
  {
   "cell_type": "code",
   "execution_count": 25,
   "id": "01406e7d",
   "metadata": {},
   "outputs": [
    {
     "name": "stdout",
     "output_type": "stream",
     "text": [
      "Using device: cpu\n"
     ]
    }
   ],
   "source": [
    "import torch\n",
    "from torch import nn\n",
    "from torch.nn import functional as F\n",
    "from torch.utils.data import Dataset, DataLoader\n",
    "from torchvision import transforms\n",
    "from torch.nn.utils.rnn import pad_sequence\n",
    "\n",
    "import pandas as pd\n",
    "import os\n",
    "from PIL import Image\n",
    "import numpy as np\n",
    "import matplotlib.pyplot as plt\n",
    "\n",
    "device = torch.device(\"cuda\" if torch.cuda.is_available() else \"cpu\")\n",
    "print(f\"Using device: {device}\")"
   ]
  },
  {
   "cell_type": "markdown",
   "id": "9f8c9d8b",
   "metadata": {},
   "source": [
    "# Tokenizer"
   ]
  },
  {
   "cell_type": "code",
   "execution_count": 26,
   "id": "c979fb72",
   "metadata": {},
   "outputs": [],
   "source": [
    "class Tokenizer:\n",
    "    def __init__(self, time_count: int = 260, note_count: int = 100, vel_count: int = 2):\n",
    "        self.val_to_velo_id: dict = {i: i + 1 for i in range(vel_count)}\n",
    "        self.val_to_note_id: dict = {i: i + 1 + vel_count for i in range(note_count)}\n",
    "        self.val_to_time_id: dict = {i: i + 1 + vel_count + note_count for i in range(time_count)}\n",
    "\n",
    "        self.velo_id_to_val: dict = {v: k for k, v in self.val_to_velo_id.items()}\n",
    "        self.note_id_to_val: dict = {v: k for k, v in self.val_to_note_id.items()}\n",
    "        self.time_id_to_val: dict = {v: k for k, v in self.val_to_time_id.items()}\n",
    "        \n",
    "        self.id_to_token: dict = {\n",
    "            **{self.val_to_velo_id[i]: f'velo_{i}' for i in self.val_to_velo_id},\n",
    "            **{self.val_to_note_id[i]: f'note_{i}' for i in self.val_to_note_id},\n",
    "            **{self.val_to_time_id[i]: f'time_{i}' for i in self.val_to_time_id},\n",
    "            0: '<pad>',\n",
    "            vel_count + note_count + time_count + 1: '<bos>',\n",
    "            vel_count + note_count + time_count + 2: '<eos>'\n",
    "        }\n",
    "        \n",
    "        self.token_to_id: dict = {v: k for k, v in self.id_to_token.items()}\n",
    "    \n",
    "\n",
    "    def tuple_to_ids(self, tuple: tuple):\n",
    "        return [self.val_to_time_id[tuple[0]], self.val_to_note_id[tuple[1]], self.val_to_velo_id[tuple[2]]]\n",
    "    \n",
    "\n",
    "    def tuple_list_to_ids(self, tuple_list: list[tuple]):\n",
    "        l = []\n",
    "        for t in tuple_list:\n",
    "            l.extend(self.tuple_to_ids(t))\n",
    "        return l\n",
    "\n",
    "\n",
    "    def id_list_to_tuple_list(self, id_list: list[int]):\n",
    "        l = []\n",
    "        for i in range(0, len(id_list), 3):\n",
    "            if i + 3 > len(id_list):\n",
    "                break\n",
    "            t = []\n",
    "            for j, d in enumerate([self.time_id_to_val, self.note_id_to_val, self.velo_id_to_val]):\n",
    "                if min(d) <= id_list[i+j] <= max(d):\n",
    "                    t.append(d[id_list[i+j]])\n",
    "                else:\n",
    "                    t.append(-1)\n",
    "            l.append(tuple(t))\n",
    "        return l"
   ]
  },
  {
   "cell_type": "markdown",
   "id": "2dcb465d",
   "metadata": {},
   "source": [
    "# Dataset"
   ]
  },
  {
   "cell_type": "code",
   "execution_count": 27,
   "id": "dfc614c7",
   "metadata": {},
   "outputs": [],
   "source": [
    "class FrameDataset(Dataset):\n",
    "    def __init__(self, image_midi_path_pairs: list[tuple], tokenizer: Tokenizer, transform=None, max_len=600):\n",
    "        self.df = image_midi_path_pairs\n",
    "        self.tokenizer = tokenizer\n",
    "        self.max_len = max_len\n",
    "        self.transform = transform if transform else transforms.Compose([\n",
    "            transforms.ToTensor()\n",
    "        ])\n",
    "\n",
    "    \n",
    "    def __len__(self):\n",
    "        return len(self.df)\n",
    "\n",
    "\n",
    "    def __getitem__(self, idx):\n",
    "        image_path = self.df.iloc[idx]['image']\n",
    "        midi_path = self.df.iloc[idx]['midi']\n",
    "        \n",
    "        image = Image.open(image_path).convert('L')\n",
    "        image = self.transform(image)\n",
    "\n",
    "        midi = pd.read_csv(midi_path)\n",
    "        midi['time'] = midi['time'] // 10\n",
    "        midi['velocity'] = (midi['velocity'] > 0).astype(int)\n",
    "        midi = midi.values.tolist()\n",
    "        midi = self.tokenizer.tuple_list_to_ids(midi)\n",
    "        midi.insert(0, self.tokenizer.token_to_id['<bos>'])\n",
    "        midi.append(self.tokenizer.token_to_id['<eos>'])\n",
    "        midi.extend([self.tokenizer.token_to_id['<pad>']] * (self.max_len - len(midi)))\n",
    "        midi = torch.tensor(midi, dtype=torch.long)\n",
    "        \n",
    "        return image, midi"
   ]
  },
  {
   "cell_type": "markdown",
   "id": "c6914510",
   "metadata": {},
   "source": [
    "# Model"
   ]
  },
  {
   "cell_type": "code",
   "execution_count": 28,
   "id": "798c74db",
   "metadata": {},
   "outputs": [],
   "source": [
    "class PositionalEncoding(nn.Module):\n",
    "    def __init__(self, d_model: int, max_len: int = 600):\n",
    "        super(PositionalEncoding, self).__init__()\n",
    "        self.encoding = torch.zeros(max_len, d_model)\n",
    "        position = torch.arange(0, max_len, dtype=torch.float).unsqueeze(1)\n",
    "        div_term = torch.exp(torch.arange(0, d_model, 2).float() * -(np.log(10000.0) / d_model))\n",
    "        self.encoding[:, 0::2] = torch.sin(position * div_term)\n",
    "        self.encoding[:, 1::2] = torch.cos(position * div_term)\n",
    "        self.encoding = self.encoding.unsqueeze(0)\n",
    "    \n",
    "    def forward(self, x: torch.Tensor):\n",
    "        x = x + self.encoding[:, :x.size(1), :]\n",
    "        return x"
   ]
  },
  {
   "cell_type": "code",
   "execution_count": 29,
   "id": "ee567d8b",
   "metadata": {},
   "outputs": [],
   "source": [
    "class PianoTranscriber(nn.Module):\n",
    "    def __init__(self, vocab_size: int, d_model: int = 128, nhead: int = 2, num_layers: int = 2):\n",
    "        super(PianoTranscriber, self).__init__()\n",
    "\n",
    "        self.positional_encoding = PositionalEncoding(d_model)\n",
    "\n",
    "        self.transformer = nn.Transformer(d_model, nhead, num_layers, num_layers, batch_first=True)\n",
    "        self.fc_out = nn.Linear(d_model, vocab_size)\n",
    "\n",
    "\n",
    "    def forward(self, x: torch.Tensor):\n",
    "        x = x.long()\n",
    "        print(f'input: {x.shape}')\n",
    "        x = x.permute(0, 3, 2, 1)\n",
    "        print(f'permute: {x.shape}')\n",
    "        x = x.flatten(2)\n",
    "        print(f'flatten: {x.shape}')\n",
    "        x = self.positional_encoding(x)\n",
    "        print(f'positional encoding: {x.shape}')\n",
    "        x = self.transformer(x, x)\n",
    "        print(f'transformer: {x.shape}')\n",
    "        x = x.permute(1, 0, 2)\n",
    "        print(f'permute: {x.shape}')\n",
    "        x = self.fc_out(x)\n",
    "        print(f'fc_out: {x.shape}')\n",
    "        return x"
   ]
  },
  {
   "cell_type": "markdown",
   "id": "14954739",
   "metadata": {},
   "source": [
    "# TMP"
   ]
  },
  {
   "cell_type": "code",
   "execution_count": 30,
   "id": "3b2bff1c",
   "metadata": {},
   "outputs": [
    {
     "data": {
      "text/html": [
       "<div>\n",
       "<style scoped>\n",
       "    .dataframe tbody tr th:only-of-type {\n",
       "        vertical-align: middle;\n",
       "    }\n",
       "\n",
       "    .dataframe tbody tr th {\n",
       "        vertical-align: top;\n",
       "    }\n",
       "\n",
       "    .dataframe thead th {\n",
       "        text-align: right;\n",
       "    }\n",
       "</style>\n",
       "<table border=\"1\" class=\"dataframe\">\n",
       "  <thead>\n",
       "    <tr style=\"text-align: right;\">\n",
       "      <th></th>\n",
       "      <th>image</th>\n",
       "      <th>midi</th>\n",
       "    </tr>\n",
       "  </thead>\n",
       "  <tbody>\n",
       "    <tr>\n",
       "      <th>0</th>\n",
       "      <td>dataset/252_0.png</td>\n",
       "      <td>dataset/252_0.csv</td>\n",
       "    </tr>\n",
       "    <tr>\n",
       "      <th>1</th>\n",
       "      <td>dataset/252_1.png</td>\n",
       "      <td>dataset/252_1.csv</td>\n",
       "    </tr>\n",
       "    <tr>\n",
       "      <th>2</th>\n",
       "      <td>dataset/252_2.png</td>\n",
       "      <td>dataset/252_2.csv</td>\n",
       "    </tr>\n",
       "    <tr>\n",
       "      <th>3</th>\n",
       "      <td>dataset/252_3.png</td>\n",
       "      <td>dataset/252_3.csv</td>\n",
       "    </tr>\n",
       "    <tr>\n",
       "      <th>4</th>\n",
       "      <td>dataset/252_4.png</td>\n",
       "      <td>dataset/252_4.csv</td>\n",
       "    </tr>\n",
       "    <tr>\n",
       "      <th>...</th>\n",
       "      <td>...</td>\n",
       "      <td>...</td>\n",
       "    </tr>\n",
       "    <tr>\n",
       "      <th>507</th>\n",
       "      <td>dataset/556_57.png</td>\n",
       "      <td>dataset/556_57.csv</td>\n",
       "    </tr>\n",
       "    <tr>\n",
       "      <th>508</th>\n",
       "      <td>dataset/556_58.png</td>\n",
       "      <td>dataset/556_58.csv</td>\n",
       "    </tr>\n",
       "    <tr>\n",
       "      <th>509</th>\n",
       "      <td>dataset/556_59.png</td>\n",
       "      <td>dataset/556_59.csv</td>\n",
       "    </tr>\n",
       "    <tr>\n",
       "      <th>510</th>\n",
       "      <td>dataset/556_60.png</td>\n",
       "      <td>dataset/556_60.csv</td>\n",
       "    </tr>\n",
       "    <tr>\n",
       "      <th>511</th>\n",
       "      <td>dataset/556_61.png</td>\n",
       "      <td>dataset/556_61.csv</td>\n",
       "    </tr>\n",
       "  </tbody>\n",
       "</table>\n",
       "<p>512 rows × 2 columns</p>\n",
       "</div>"
      ],
      "text/plain": [
       "                  image                midi\n",
       "0     dataset/252_0.png   dataset/252_0.csv\n",
       "1     dataset/252_1.png   dataset/252_1.csv\n",
       "2     dataset/252_2.png   dataset/252_2.csv\n",
       "3     dataset/252_3.png   dataset/252_3.csv\n",
       "4     dataset/252_4.png   dataset/252_4.csv\n",
       "..                  ...                 ...\n",
       "507  dataset/556_57.png  dataset/556_57.csv\n",
       "508  dataset/556_58.png  dataset/556_58.csv\n",
       "509  dataset/556_59.png  dataset/556_59.csv\n",
       "510  dataset/556_60.png  dataset/556_60.csv\n",
       "511  dataset/556_61.png  dataset/556_61.csv\n",
       "\n",
       "[512 rows x 2 columns]"
      ]
     },
     "execution_count": 30,
     "metadata": {},
     "output_type": "execute_result"
    }
   ],
   "source": [
    "df = pd.read_csv('dataset.csv')\n",
    "df['image'] = df['image'].apply(lambda x: os.path.join('dataset', x))\n",
    "df['midi'] = df['midi'].apply(lambda x: os.path.join('dataset', x))\n",
    "df"
   ]
  },
  {
   "cell_type": "code",
   "execution_count": 31,
   "id": "ff2687d5",
   "metadata": {},
   "outputs": [],
   "source": [
    "transform = transforms.Compose([\n",
    "    transforms.Resize((128, 64)),\n",
    "    transforms.ToTensor(),\n",
    "])\n",
    "tokenizer = Tokenizer()\n",
    "dataset = FrameDataset(df, tokenizer, transform=transform, max_len=600)\n",
    "loader = DataLoader(dataset, batch_size=2)\n",
    "for i, (image, midi) in enumerate(loader):\n",
    "    # plt.imshow(image[0].permute(1, 2, 0), origin='lower')\n",
    "    if i == 0:\n",
    "        break"
   ]
  },
  {
   "cell_type": "code",
   "execution_count": 32,
   "id": "cd9c51d1",
   "metadata": {},
   "outputs": [
    {
     "name": "stdout",
     "output_type": "stream",
     "text": [
      "input: torch.Size([2, 1, 128, 64])\n",
      "permute: torch.Size([2, 64, 128, 1])\n",
      "flatten: torch.Size([2, 64, 128])\n",
      "positional encoding: torch.Size([2, 64, 128])\n",
      "transformer: torch.Size([2, 64, 128])\n",
      "permute: torch.Size([64, 2, 128])\n",
      "fc_out: torch.Size([64, 2, 128])\n",
      "[3, 57, 12, 18, 25, 62, 11, 54, 6, 50, 52, 25, 47, 61, 19, 11, 15, 60, 2, 60, 31, 62, 4, 15, 61, 8, 14, 30, 39, 46, 56, 7, 26, 24, 29, 1, 15, 44, 52, 35, 48, 35, 63, 34, 63, 41, 6, 1, 0, 16, 20, 34, 50, 20, 15, 30, 46, 62, 43, 62, 53, 57, 20, 44, 10, 15, 58, 59, 36, 11, 43, 25, 40, 38, 6, 24, 40, 8, 63, 20, 34, 22, 30, 17, 62, 62, 7, 3, 58, 17, 10, 40, 59, 43, 53, 22, 7, 31, 20, 0, 58, 53, 10, 44, 17, 6, 23, 4, 47, 4, 43, 62, 14, 53, 53, 32, 27, 53, 37, 26, 30, 21, 44, 58, 44, 51, 30, 51]\n",
      "[(-1, 54, -1), (-1, 22, -1), (-1, 51, -1), (-1, 49, -1), (-1, 58, -1), (-1, 12, -1), (-1, 57, -1), (-1, 1, -1), (-1, 5, -1), (-1, 36, -1), (-1, 4, -1), (-1, 26, 0), (-1, 41, -1), (-1, 45, -1), (-1, 31, -1), (-1, 3, 0), (-1, 13, -1), (-1, 47, -1), (-1, 27, -1), (-1, 40, -1), (-1, 54, -1), (-1, 7, -1), (-1, 56, -1), (-1, 40, -1), (-1, 35, -1), (-1, 37, -1), (-1, 17, -1), (-1, 27, -1), (-1, 59, -1), (-1, 55, -1), (-1, 37, -1), (-1, 50, -1), (-1, 28, -1), (-1, 55, -1), (-1, 41, -1), (-1, 20, -1), (-1, 1, -1), (-1, 11, -1), (-1, 29, -1), (-1, 34, -1), (-1, 18, -1), (-1, 41, -1)]\n"
     ]
    }
   ],
   "source": [
    "model = PianoTranscriber(128).to(device)\n",
    "\n",
    "for i, (image, midi) in enumerate(loader):\n",
    "    image = image.to(device)\n",
    "    midi = midi.to(device)\n",
    "    output = model(image)\n",
    "    output = output.argmax(dim=0)\n",
    "    output = output[0]\n",
    "    output = output.cpu().numpy().tolist()\n",
    "    print(output)\n",
    "    output = tokenizer.id_list_to_tuple_list(output)\n",
    "    print(output)\n",
    "    break"
   ]
  },
  {
   "cell_type": "markdown",
   "id": "223ec9ba",
   "metadata": {},
   "source": [
    "# Solving"
   ]
  }
 ],
 "metadata": {
  "kernelspec": {
   "display_name": "midi",
   "language": "python",
   "name": "python3"
  },
  "language_info": {
   "codemirror_mode": {
    "name": "ipython",
    "version": 3
   },
   "file_extension": ".py",
   "mimetype": "text/x-python",
   "name": "python",
   "nbconvert_exporter": "python",
   "pygments_lexer": "ipython3",
   "version": "3.13.2"
  }
 },
 "nbformat": 4,
 "nbformat_minor": 5
}
