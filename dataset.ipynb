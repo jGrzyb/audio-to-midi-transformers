{
 "cells": [
  {
   "cell_type": "markdown",
   "id": "1dc3b18e",
   "metadata": {},
   "source": [
    "# Imports"
   ]
  },
  {
   "cell_type": "code",
   "execution_count": 634,
   "id": "01406e7d",
   "metadata": {},
   "outputs": [
    {
     "name": "stdout",
     "output_type": "stream",
     "text": [
      "Using device: cuda\n"
     ]
    }
   ],
   "source": [
    "import torch\n",
    "from torch import nn\n",
    "from torch.nn import functional as F\n",
    "from torch.utils.data import Dataset, DataLoader\n",
    "from torchvision import transforms\n",
    "from torch.nn.utils.rnn import pad_sequence\n",
    "\n",
    "import pandas as pd\n",
    "import os\n",
    "from PIL import Image\n",
    "import numpy as np\n",
    "import matplotlib.pyplot as plt\n",
    "import time\n",
    "\n",
    "device = torch.device(\"cuda\" if torch.cuda.is_available() else \"cpu\")\n",
    "print(f\"Using device: {device}\")"
   ]
  },
  {
   "cell_type": "markdown",
   "id": "9f8c9d8b",
   "metadata": {},
   "source": [
    "# Tokenizer"
   ]
  },
  {
   "cell_type": "code",
   "execution_count": 635,
   "id": "c979fb72",
   "metadata": {},
   "outputs": [],
   "source": [
    "class Tokenizer:\n",
    "    def __init__(self, time_count: int = 260, note_count: int = 110, vel_count: int = 2):\n",
    "        self.val_to_velo_id: dict = {i: i + 1 for i in range(vel_count)}\n",
    "        self.val_to_note_id: dict = {i: i + 1 + vel_count for i in range(note_count)}\n",
    "        self.val_to_time_id: dict = {i: i + 1 + vel_count + note_count for i in range(time_count)}\n",
    "\n",
    "        self.velo_id_to_val: dict = {v: k for k, v in self.val_to_velo_id.items()}\n",
    "        self.note_id_to_val: dict = {v: k for k, v in self.val_to_note_id.items()}\n",
    "        self.time_id_to_val: dict = {v: k for k, v in self.val_to_time_id.items()}\n",
    "        \n",
    "        self.id_to_token: dict = {\n",
    "            **{self.val_to_velo_id[i]: f'velo_{i}' for i in self.val_to_velo_id},\n",
    "            **{self.val_to_note_id[i]: f'note_{i}' for i in self.val_to_note_id},\n",
    "            **{self.val_to_time_id[i]: f'time_{i}' for i in self.val_to_time_id},\n",
    "            0: '<pad>',\n",
    "            vel_count + note_count + time_count + 1: '<bos>',\n",
    "            vel_count + note_count + time_count + 2: '<eos>'\n",
    "        }\n",
    "        \n",
    "        self.token_to_id: dict = {v: k for k, v in self.id_to_token.items()}\n",
    "    \n",
    "\n",
    "    def tuple_to_ids(self, tuple: tuple):\n",
    "        return [self.val_to_time_id[tuple[0]], self.val_to_note_id[tuple[1]], self.val_to_velo_id[tuple[2]]]\n",
    "    \n",
    "\n",
    "    def tuple_list_to_ids(self, tuple_list: list[tuple]):\n",
    "        l = []\n",
    "        for t in tuple_list:\n",
    "            l.extend(self.tuple_to_ids(t))\n",
    "        return l\n",
    "\n",
    "\n",
    "    def id_list_to_tuple_list(self, id_list: list[int]):\n",
    "        l = []\n",
    "        for i in range(0, len(id_list), 3):\n",
    "            if i + 3 > len(id_list):\n",
    "                break\n",
    "            t = []\n",
    "            for j, d in enumerate([self.time_id_to_val, self.note_id_to_val, self.velo_id_to_val]):\n",
    "                if min(d) <= id_list[i+j] <= max(d):\n",
    "                    t.append(d[id_list[i+j]])\n",
    "                else:\n",
    "                    t.append(-1)\n",
    "            l.append(tuple(t))\n",
    "        return l"
   ]
  },
  {
   "cell_type": "markdown",
   "id": "2dcb465d",
   "metadata": {},
   "source": [
    "# Dataset"
   ]
  },
  {
   "cell_type": "code",
   "execution_count": 636,
   "id": "dfc614c7",
   "metadata": {},
   "outputs": [],
   "source": [
    "class FrameDataset(Dataset):\n",
    "    def __init__(self, image_midi_path_pairs: list[tuple], tokenizer: Tokenizer, transform: transforms.Compose = None, max_len = 600):\n",
    "        self.df = image_midi_path_pairs\n",
    "        self.tokenizer = tokenizer\n",
    "        self.transform = transform if transform else transforms.ToTensor()\n",
    "        self.max_len = max_len\n",
    "\n",
    "    def __len__(self):\n",
    "        return len(self.df)\n",
    "\n",
    "    def __getitem__(self, idx):\n",
    "        image_path = self.df.iloc[idx]['image']\n",
    "        midi_path = self.df.iloc[idx]['midi']\n",
    "\n",
    "        image = Image.open(image_path).convert('L')\n",
    "        image = self.transform(image)\n",
    "\n",
    "        midi = pd.read_csv(midi_path)\n",
    "        midi['time'] = midi['time'] // 10\n",
    "        midi['velocity'] = (midi['velocity'] > 0).astype(int)\n",
    "        midi = midi.values.tolist()\n",
    "        midi = self.tokenizer.tuple_list_to_ids(midi)\n",
    "        midi.insert(0, self.tokenizer.token_to_id['<bos>'])\n",
    "        midi.append(self.tokenizer.token_to_id['<eos>'])\n",
    "        midi.extend([self.tokenizer.token_to_id['<pad>']] * (self.max_len - len(midi)))\n",
    "        midi = torch.tensor(midi, dtype=torch.long)\n",
    "\n",
    "        return image, midi"
   ]
  },
  {
   "cell_type": "markdown",
   "id": "53143e4f",
   "metadata": {},
   "source": [
    "# Helpers"
   ]
  },
  {
   "cell_type": "code",
   "execution_count": 637,
   "id": "ceb49d9b",
   "metadata": {},
   "outputs": [],
   "source": [
    "class ProgressBar:\n",
    "    def __init__(self, total: int):\n",
    "        self.total = total\n",
    "        self.current = 0\n",
    "        self.last_progress = 0\n",
    "        self.start_time = time.time()\n",
    "\n",
    "    def update(self, current: int, epochs: str):\n",
    "        self.current = current\n",
    "        progress = (self.current / self.total) * 100\n",
    "        if int(progress) > self.last_progress:\n",
    "            elapsed_time = time.time() - self.start_time\n",
    "            print(\n",
    "                f'\\rEpoch: {epochs.rjust(5)} {str(int(progress)).rjust(3)}% | Elapsed: {str(int(elapsed_time)).rjust(3)}s', end='')\n",
    "            self.last_progress = int(progress)"
   ]
  },
  {
   "cell_type": "code",
   "execution_count": 638,
   "id": "1c9ac247",
   "metadata": {},
   "outputs": [],
   "source": [
    "class MetricsTracker:\n",
    "    def __init__(self):\n",
    "        self.losses = []\n",
    "        self.accuracies = []\n",
    "\n",
    "    def update(self, loss: float, accuracy: float):\n",
    "        self.losses.append(loss)\n",
    "        self.accuracies.append(accuracy)\n",
    "\n",
    "    def get_average_loss(self):\n",
    "        return sum(self.losses) / len(self.losses) if self.losses else 0.0\n",
    "\n",
    "    def get_average_accuracy(self):\n",
    "        return sum(self.accuracies) / len(self.accuracies) if self.accuracies else 0.0"
   ]
  },
  {
   "cell_type": "code",
   "execution_count": 639,
   "id": "5469a428",
   "metadata": {},
   "outputs": [],
   "source": [
    "class Validator:\n",
    "    def __init__(self, model: nn.Module, criterion: nn.CrossEntropyLoss, device: torch.device):\n",
    "        self.model = model\n",
    "        self.criterion = criterion\n",
    "        self.device = device\n",
    "\n",
    "    def validate(self, val_loader: DataLoader) -> tuple:\n",
    "        self.model.eval()\n",
    "        metrics_tracker = MetricsTracker()\n",
    "\n",
    "        with torch.no_grad():\n",
    "            for image, midi in val_loader:\n",
    "                image: torch.Tensor = image.to(self.device)\n",
    "                midi: torch.Tensor = midi.to(self.device)\n",
    "\n",
    "                input_tokens: torch.Tensor = midi[:, :-1]\n",
    "                target_tokens: torch.Tensor = midi[:, 1:]\n",
    "                target_tokens = target_tokens.reshape(-1)\n",
    "\n",
    "                output: torch.Tensor = self.model(image, input_tokens)\n",
    "                output = output.reshape(-1, output.shape[-1])\n",
    "\n",
    "                loss: torch.Tensor = self.criterion(output, target_tokens)\n",
    "                accuracy = (output.argmax(dim=1) ==\n",
    "                            target_tokens).float().mean().item()\n",
    "\n",
    "                metrics_tracker.update(loss.item(), accuracy)\n",
    "\n",
    "        avg_loss = metrics_tracker.get_average_loss()\n",
    "        avg_accuracy = metrics_tracker.get_average_accuracy()\n",
    "\n",
    "        return avg_loss, avg_accuracy"
   ]
  },
  {
   "cell_type": "code",
   "execution_count": 640,
   "id": "798c74db",
   "metadata": {},
   "outputs": [],
   "source": [
    "class PositionalEncoding(nn.Module):\n",
    "    def __init__(self, d_model: int, max_len: int = 600):\n",
    "        super(PositionalEncoding, self).__init__()\n",
    "        self.encoding = torch.zeros(max_len, d_model).to(device)\n",
    "        position = torch.arange(0, max_len, dtype=torch.float).unsqueeze(1)\n",
    "        div_term = torch.exp(torch.arange(0, d_model, 2).float() * -(np.log(10000.0) / d_model))\n",
    "        self.encoding[:, 0::2] = torch.sin(position * div_term)\n",
    "        self.encoding[:, 1::2] = torch.cos(position * div_term)\n",
    "        self.encoding = self.encoding.unsqueeze(0)\n",
    "    \n",
    "    def forward(self, x: torch.Tensor):\n",
    "        x = x + self.encoding[:, :x.size(1), :]\n",
    "        return x"
   ]
  },
  {
   "cell_type": "code",
   "execution_count": 641,
   "id": "faa812dd",
   "metadata": {},
   "outputs": [],
   "source": [
    "class TrainingHistory:\n",
    "    def __init__(self):\n",
    "        self.history = {\n",
    "            'train_loss': [],\n",
    "            'train_accuracy': [],\n",
    "            'val_loss': [],\n",
    "            'val_accuracy': []\n",
    "        }\n",
    "\n",
    "    def update(self, train_loss: float, train_accuracy: float, val_loss: float, val_accuracy: float):\n",
    "        self.history['train_loss'].append(train_loss)\n",
    "        self.history['train_accuracy'].append(train_accuracy)\n",
    "        self.history['val_loss'].append(val_loss)\n",
    "        self.history['val_accuracy'].append(val_accuracy)\n",
    "\n",
    "    def get_history(self):\n",
    "        return self.history\n",
    "\n",
    "    def plot(self):\n",
    "        epochs = range(1, len(self.history['train_loss']) + 1)\n",
    "        plt.figure(figsize=(12, 6))\n",
    "\n",
    "        # Plot loss\n",
    "        plt.subplot(1, 2, 1)\n",
    "        plt.plot(epochs, self.history['train_loss'], label='Train Loss')\n",
    "        plt.plot(epochs, self.history['val_loss'], label='Validation Loss')\n",
    "        plt.title('Loss')\n",
    "        plt.xlabel('Epochs')\n",
    "        plt.ylabel('Loss')\n",
    "        plt.legend()\n",
    "\n",
    "        # Plot accuracy\n",
    "        plt.subplot(1, 2, 2)\n",
    "        plt.plot(epochs, self.history['train_accuracy'], label='Train Accuracy')\n",
    "        plt.plot(epochs, self.history['val_accuracy'], label='Validation Accuracy')\n",
    "        plt.title('Accuracy')\n",
    "        plt.xlabel('Epochs')\n",
    "        plt.ylabel('Accuracy')\n",
    "        plt.legend()\n",
    "\n",
    "        plt.tight_layout()\n",
    "        plt.show()"
   ]
  },
  {
   "cell_type": "markdown",
   "id": "9982a26d",
   "metadata": {},
   "source": [
    "# Train"
   ]
  },
  {
   "cell_type": "code",
   "execution_count": 642,
   "id": "822ce975",
   "metadata": {},
   "outputs": [],
   "source": [
    "def train(\n",
    "    model: nn.Module,\n",
    "    train_loader: DataLoader,\n",
    "    val_loader: DataLoader,\n",
    "    criterion: nn.CrossEntropyLoss,\n",
    "    optimizer: torch.optim.Optimizer,\n",
    "    epochs: int,\n",
    "    history: TrainingHistory = None,\n",
    "    device: torch.device = device\n",
    "):\n",
    "    for epoch in range(epochs):\n",
    "        progress_bar = ProgressBar(len(train_loader))\n",
    "        metrics_tracker = MetricsTracker()\n",
    "        validator = Validator(model, criterion, device)\n",
    "        model.train()\n",
    "\n",
    "        for i, (image, midi) in enumerate(train_loader):\n",
    "            image: torch.Tensor = image.to(device)\n",
    "            midi: torch.Tensor = midi.to(device)\n",
    "\n",
    "            input_tokens = midi[:, :-1]\n",
    "            target_tokens = midi[:, 1:]\n",
    "            target_tokens = target_tokens.reshape(-1)\n",
    "\n",
    "            output: torch.Tensor = model(image, input_tokens)\n",
    "            output = output.reshape(-1, output.shape[-1])\n",
    "\n",
    "            loss: torch.Tensor = criterion(output, target_tokens)\n",
    "            optimizer.zero_grad()\n",
    "            loss.backward()\n",
    "            optimizer.step()\n",
    "\n",
    "            accuracy = (output.argmax(dim=1) ==\n",
    "                        target_tokens).float().mean().item()\n",
    "            metrics_tracker.update(loss.item(), accuracy)\n",
    "\n",
    "            progress_bar.update(i + 1, f'{epoch + 1}/{epochs}')\n",
    "\n",
    "        print(f' | loss: {metrics_tracker.get_average_loss():.4f} - acc: {metrics_tracker.get_average_accuracy():.4f}', end='')\n",
    "        val_loss, val_acc = validator.validate(val_loader)\n",
    "        print(f' | val_loss: {val_loss:.4f} - val_acc: {val_acc:.4f}')\n",
    "\n",
    "        if history:\n",
    "            history.update(metrics_tracker.get_average_loss(), metrics_tracker.get_average_accuracy(), val_loss, val_acc)"
   ]
  },
  {
   "cell_type": "markdown",
   "id": "c6914510",
   "metadata": {},
   "source": [
    "# Model"
   ]
  },
  {
   "cell_type": "code",
   "execution_count": 643,
   "id": "ee567d8b",
   "metadata": {},
   "outputs": [],
   "source": [
    "class PianoTranscriber(nn.Module):\n",
    "    def __init__(self, input_size: int, vocab_size: int, d_model: int = 128, nhead: int = 2, num_layers: int = 2):\n",
    "        super(PianoTranscriber, self).__init__()\n",
    "\n",
    "        self.input_layer = nn.Linear(input_size, d_model)\n",
    "        self.pos_encoder = PositionalEncoding(d_model)\n",
    "\n",
    "        encoder_layer = nn.TransformerEncoderLayer(d_model, nhead)\n",
    "        self.encoder = nn.TransformerEncoder(encoder_layer, num_layers)\n",
    "\n",
    "        decoder_layer = nn.TransformerDecoderLayer(d_model, nhead)\n",
    "        self.decoder = nn.TransformerDecoder(decoder_layer, num_layers)\n",
    "\n",
    "        self.embedding = nn.Embedding(vocab_size, d_model)\n",
    "        self.output = nn.Linear(d_model, vocab_size)\n",
    "\n",
    "    def forward(self, src: torch.Tensor, tgt: torch.Tensor):\n",
    "        src = src.flatten(1, 2)\n",
    "        src = src.permute(0, 2, 1)\n",
    "        src = self.input_layer(src)\n",
    "        src = self.pos_encoder(src)\n",
    "        src = src.permute(1, 0, 2)\n",
    "        memory = self.encoder(src)\n",
    "\n",
    "        tgt = self.embedding(tgt)\n",
    "        tgt = self.pos_encoder(tgt)\n",
    "        tgt = tgt.permute(1, 0, 2)\n",
    "\n",
    "        tgt_mask = self.generate_square_subsequent_mask(tgt.size(0)).to(tgt.device)\n",
    "\n",
    "        output = self.decoder(tgt, memory, tgt_mask=tgt_mask)\n",
    "        output = self.output(output)\n",
    "        output = output.permute(1, 0, 2)\n",
    "        return output\n",
    "\n",
    "    def generate_square_subsequent_mask(self, sz):\n",
    "        return torch.triu(torch.full((sz, sz), float('-inf')), diagonal=1)"
   ]
  },
  {
   "cell_type": "markdown",
   "id": "14954739",
   "metadata": {},
   "source": [
    "# Example"
   ]
  },
  {
   "cell_type": "markdown",
   "id": "12ae183a",
   "metadata": {},
   "source": [
    "### Prep"
   ]
  },
  {
   "cell_type": "code",
   "execution_count": 644,
   "id": "3b2bff1c",
   "metadata": {},
   "outputs": [],
   "source": [
    "df = pd.read_csv('dataset.csv')\n",
    "df['image'] = df['image'].apply(lambda x: os.path.join('dataset', x))\n",
    "df['midi'] = df['midi'].apply(lambda x: os.path.join('dataset', x))"
   ]
  },
  {
   "cell_type": "code",
   "execution_count": 645,
   "id": "ff2687d5",
   "metadata": {},
   "outputs": [],
   "source": [
    "transform = transforms.Compose([\n",
    "    transforms.Resize((128, 64)),\n",
    "    transforms.ToTensor(),\n",
    "])\n",
    "tokenizer = Tokenizer()\n",
    "dataset = FrameDataset(df, tokenizer, transform=transform, max_len=600)\n",
    "loader = DataLoader(dataset, batch_size=16, num_workers=4, shuffle=True)"
   ]
  },
  {
   "cell_type": "markdown",
   "id": "104057e8",
   "metadata": {},
   "source": [
    "### Training"
   ]
  },
  {
   "cell_type": "code",
   "execution_count": 646,
   "id": "1a637608",
   "metadata": {},
   "outputs": [
    {
     "name": "stderr",
     "output_type": "stream",
     "text": [
      "/home/jakub/miniconda3/envs/midi/lib/python3.13/site-packages/torch/nn/modules/transformer.py:385: UserWarning: enable_nested_tensor is True, but self.use_nested_tensor is False because encoder_layer.self_attn.batch_first was not True(use batch_first for better inference performance)\n",
      "  warnings.warn(\n"
     ]
    }
   ],
   "source": [
    "model = PianoTranscriber(128, len(tokenizer.id_to_token)).to(device)\n",
    "criterion = nn.CrossEntropyLoss(ignore_index=tokenizer.token_to_id['<pad>']).to(device)\n",
    "optimizer = torch.optim.Adam(model.parameters(), lr=0.001)\n",
    "history = TrainingHistory()"
   ]
  },
  {
   "cell_type": "code",
   "execution_count": 647,
   "id": "1d894fdc",
   "metadata": {},
   "outputs": [
    {
     "name": "stdout",
     "output_type": "stream",
     "text": [
      "Epoch:  1/20 100% | Elapsed:   3s | loss: 4.4329 - acc: 0.0619 | val_loss: 3.8184 - val_acc: 0.0651\n",
      "Epoch:  2/20 100% | Elapsed:   3s | loss: 3.5578 - acc: 0.0684 | val_loss: 3.3344 - val_acc: 0.0721\n",
      "Epoch:  3/20 100% | Elapsed:   3s | loss: 3.2510 - acc: 0.0716 | val_loss: 3.1190 - val_acc: 0.0741\n",
      "Epoch:  4/20 100% | Elapsed:   3s | loss: 3.0884 - acc: 0.0731 | val_loss: 3.0005 - val_acc: 0.0761\n",
      "Epoch:  5/20 100% | Elapsed:   3s | loss: 2.9739 - acc: 0.0756 | val_loss: 2.8819 - val_acc: 0.0789\n",
      "Epoch:  6/20 100% | Elapsed:   3s | loss: 2.8666 - acc: 0.0773 | val_loss: 2.7555 - val_acc: 0.0807\n",
      "Epoch:  7/20 100% | Elapsed:   3s | loss: 2.7412 - acc: 0.0811 | val_loss: 2.6344 - val_acc: 0.0870\n",
      "Epoch:  8/20 100% | Elapsed:   3s | loss: 2.6229 - acc: 0.0850 | val_loss: 2.5189 - val_acc: 0.0914\n",
      "Epoch:  9/20 100% | Elapsed:   3s | loss: 2.5080 - acc: 0.0894 | val_loss: 2.3991 - val_acc: 0.0975\n",
      "Epoch: 10/20 100% | Elapsed:   3s | loss: 2.4199 - acc: 0.0930 | val_loss: 2.3138 - val_acc: 0.0990\n",
      "Epoch: 11/20 100% | Elapsed:   3s | loss: 2.3435 - acc: 0.0972 | val_loss: 2.2328 - val_acc: 0.1079\n",
      "Epoch: 12/20 100% | Elapsed:   3s | loss: 2.2676 - acc: 0.1023 | val_loss: 2.1575 - val_acc: 0.1079\n",
      "Epoch: 13/20 100% | Elapsed:   3s | loss: 2.2076 - acc: 0.1062 | val_loss: 2.1020 - val_acc: 0.1142\n",
      "Epoch: 14/20 100% | Elapsed:   3s | loss: 2.1495 - acc: 0.1108 | val_loss: 2.0327 - val_acc: 0.1210\n",
      "Epoch: 15/20 100% | Elapsed:   3s | loss: 2.0919 - acc: 0.1149 | val_loss: 1.9851 - val_acc: 0.1267\n",
      "Epoch: 16/20 100% | Elapsed:   3s | loss: 2.0514 - acc: 0.1181 | val_loss: 1.9321 - val_acc: 0.1318\n",
      "Epoch: 17/20 100% | Elapsed:   3s | loss: 2.0107 - acc: 0.1223 | val_loss: 1.8846 - val_acc: 0.1353\n",
      "Epoch: 18/20 100% | Elapsed:   3s | loss: 1.9647 - acc: 0.1261 | val_loss: 1.8469 - val_acc: 0.1382\n",
      "Epoch: 19/20 100% | Elapsed:   3s | loss: 1.9354 - acc: 0.1285 | val_loss: 1.8089 - val_acc: 0.1413\n",
      "Epoch: 20/20 100% | Elapsed:   3s | loss: 1.8978 - acc: 0.1317 | val_loss: 1.7705 - val_acc: 0.1465\n"
     ]
    }
   ],
   "source": [
    "train(model, loader, loader, criterion, optimizer, epochs=20, history=history, device=device)"
   ]
  },
  {
   "cell_type": "code",
   "execution_count": 648,
   "id": "a8e796b8",
   "metadata": {},
   "outputs": [
    {
     "data": {
      "image/png": "[encoded data removed]",
      "text/plain": [
       "<Figure size 1200x600 with 2 Axes>"
      ]
     },
     "metadata": {},
     "output_type": "display_data"
    }
   ],
   "source": [
    "history.plot()"
   ]
  }
 ],
 "metadata": {
  "kernelspec": {
   "display_name": "midi",
   "language": "python",
   "name": "python3"
  },
  "language_info": {
   "codemirror_mode": {
    "name": "ipython",
    "version": 3
   },
   "file_extension": ".py",
   "mimetype": "text/x-python",
   "name": "python",
   "nbconvert_exporter": "python",
   "pygments_lexer": "ipython3",
   "version": "3.13.2"
  }
 },
 "nbformat": 4,
 "nbformat_minor": 5
}
