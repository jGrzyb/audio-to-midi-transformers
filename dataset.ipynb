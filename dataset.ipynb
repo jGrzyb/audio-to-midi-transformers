{
 "cells": [
  {
   "cell_type": "markdown",
   "id": "1dc3b18e",
   "metadata": {},
   "source": [
    "# Imports"
   ]
  },
  {
   "cell_type": "code",
   "execution_count": 107,
   "id": "01406e7d",
   "metadata": {},
   "outputs": [
    {
     "name": "stdout",
     "output_type": "stream",
     "text": [
      "Using device: cpu\n"
     ]
    }
   ],
   "source": [
    "import torch\n",
    "from torch import nn\n",
    "from torch.nn import functional as F\n",
    "from torch.utils.data import Dataset, DataLoader\n",
    "from torchvision import transforms\n",
    "from torch.nn.utils.rnn import pad_sequence\n",
    "\n",
    "import pandas as pd\n",
    "import os\n",
    "from PIL import Image\n",
    "import numpy as np\n",
    "import matplotlib.pyplot as plt\n",
    "\n",
    "device = torch.device(\"cuda\" if torch.cuda.is_available() else \"cpu\")\n",
    "print(f\"Using device: {device}\")"
   ]
  },
  {
   "cell_type": "markdown",
   "id": "9f8c9d8b",
   "metadata": {},
   "source": [
    "# Tokenizer"
   ]
  },
  {
   "cell_type": "code",
   "execution_count": 108,
   "id": "c979fb72",
   "metadata": {},
   "outputs": [],
   "source": [
    "class Tokenizer:\n",
    "    def __init__(self, time_count: int = 260, note_count: int = 100, vel_count: int = 2):\n",
    "        self.val_to_velo_id: dict = {i: i + 1 for i in range(vel_count)}\n",
    "        self.val_to_note_id: dict = {i: i + 1 + vel_count for i in range(note_count)}\n",
    "        self.val_to_time_id: dict = {i: i + 1 + vel_count + note_count for i in range(time_count)}\n",
    "\n",
    "        self.velo_id_to_val: dict = {v: k for k, v in self.val_to_velo_id.items()}\n",
    "        self.note_id_to_val: dict = {v: k for k, v in self.val_to_note_id.items()}\n",
    "        self.time_id_to_val: dict = {v: k for k, v in self.val_to_time_id.items()}\n",
    "        \n",
    "        self.id_to_token: dict = {\n",
    "            **{self.val_to_velo_id[i]: f'velo_{i}' for i in self.val_to_velo_id},\n",
    "            **{self.val_to_note_id[i]: f'note_{i}' for i in self.val_to_note_id},\n",
    "            **{self.val_to_time_id[i]: f'time_{i}' for i in self.val_to_time_id},\n",
    "            0: '<pad>',\n",
    "            vel_count + note_count + time_count + 1: '<bos>',\n",
    "            vel_count + note_count + time_count + 2: '<eos>'\n",
    "        }\n",
    "        \n",
    "        self.token_to_id: dict = {v: k for k, v in self.id_to_token.items()}\n",
    "    \n",
    "\n",
    "    def tuple_to_ids(self, tuple: tuple):\n",
    "        return [self.val_to_time_id[tuple[0]], self.val_to_note_id[tuple[1]], self.val_to_velo_id[tuple[2]]]\n",
    "    \n",
    "\n",
    "    def tuple_list_to_ids(self, tuple_list: list[tuple]):\n",
    "        l = []\n",
    "        for t in tuple_list:\n",
    "            l.extend(self.tuple_to_ids(t))\n",
    "        return l\n",
    "\n",
    "\n",
    "    def id_list_to_tuple_list(self, id_list: list[int]):\n",
    "        l = []\n",
    "        for i in range(0, len(id_list), 3):\n",
    "            if i + 3 > len(id_list):\n",
    "                break\n",
    "            t = []\n",
    "            for j, d in enumerate([self.time_id_to_val, self.note_id_to_val, self.velo_id_to_val]):\n",
    "                if min(d) <= id_list[i+j] <= max(d):\n",
    "                    t.append(d[id_list[i+j]])\n",
    "                else:\n",
    "                    t.append(-1)\n",
    "            l.append(tuple(t))\n",
    "        return l"
   ]
  },
  {
   "cell_type": "markdown",
   "id": "2dcb465d",
   "metadata": {},
   "source": [
    "# Dataset"
   ]
  },
  {
   "cell_type": "code",
   "execution_count": 109,
   "id": "dfc614c7",
   "metadata": {},
   "outputs": [],
   "source": [
    "class FrameDataset(Dataset):\n",
    "    def __init__(self, image_midi_path_pairs: list[tuple], tokenizer: Tokenizer, transform=None, max_len=600):\n",
    "        self.df = image_midi_path_pairs\n",
    "        self.tokenizer = tokenizer\n",
    "        self.max_len = max_len\n",
    "        self.transform = transform if transform else transforms.Compose([\n",
    "            transforms.ToTensor()\n",
    "        ])\n",
    "\n",
    "    \n",
    "    def __len__(self):\n",
    "        return len(self.df)\n",
    "\n",
    "\n",
    "    def __getitem__(self, idx):\n",
    "        image_path = self.df.iloc[idx]['image']\n",
    "        midi_path = self.df.iloc[idx]['midi']\n",
    "        \n",
    "        image = Image.open(image_path).convert('L')\n",
    "        image = self.transform(image)\n",
    "\n",
    "        midi = pd.read_csv(midi_path)\n",
    "        midi['time'] = midi['time'] // 10\n",
    "        midi['velocity'] = (midi['velocity'] > 0).astype(int)\n",
    "        midi = midi.values.tolist()\n",
    "        midi = self.tokenizer.tuple_list_to_ids(midi)\n",
    "        midi.insert(0, self.tokenizer.token_to_id['<bos>'])\n",
    "        midi.append(self.tokenizer.token_to_id['<eos>'])\n",
    "        midi.extend([self.tokenizer.token_to_id['<pad>']] * (self.max_len - len(midi)))\n",
    "        midi = torch.tensor(midi, dtype=torch.long)\n",
    "        \n",
    "        return image, midi"
   ]
  },
  {
   "cell_type": "markdown",
   "id": "c6914510",
   "metadata": {},
   "source": [
    "# Model"
   ]
  },
  {
   "cell_type": "code",
   "execution_count": 110,
   "id": "798c74db",
   "metadata": {},
   "outputs": [],
   "source": [
    "class PositionalEncoding(nn.Module):\n",
    "    def __init__(self, d_model: int, max_len: int = 600):\n",
    "        super(PositionalEncoding, self).__init__()\n",
    "        self.encoding = torch.zeros(max_len, d_model)\n",
    "        position = torch.arange(0, max_len, dtype=torch.float).unsqueeze(1)\n",
    "        div_term = torch.exp(torch.arange(0, d_model, 2).float() * -(np.log(10000.0) / d_model))\n",
    "        self.encoding[:, 0::2] = torch.sin(position * div_term)\n",
    "        self.encoding[:, 1::2] = torch.cos(position * div_term)\n",
    "        self.encoding = self.encoding.unsqueeze(0)\n",
    "    \n",
    "    def forward(self, x: torch.Tensor):\n",
    "        x = x + self.encoding[:, :x.size(1), :]\n",
    "        return x"
   ]
  },
  {
   "cell_type": "code",
   "execution_count": 111,
   "id": "ee567d8b",
   "metadata": {},
   "outputs": [],
   "source": [
    "class PianoTranscriber(nn.Module):\n",
    "    def __init__(self, input_size: int, vocab_size: int, d_model: int = 128, nhead: int = 2, num_layers: int = 2):\n",
    "        super(PianoTranscriber, self).__init__()\n",
    "\n",
    "        self.input_layer = nn.Linear(input_size, d_model)\n",
    "        self.pos_encoder = PositionalEncoding(d_model)\n",
    "\n",
    "        encoder_layer = nn.TransformerEncoderLayer(d_model, nhead)\n",
    "        self.encoder = nn.TransformerEncoder(encoder_layer, num_layers)\n",
    "\n",
    "        decoder_layer = nn.TransformerDecoderLayer(d_model, nhead)\n",
    "        self.decoder = nn.TransformerDecoder(decoder_layer, num_layers)\n",
    "\n",
    "        self.embedding = nn.Embedding(vocab_size, d_model)\n",
    "        self.output = nn.Linear(d_model, vocab_size)\n",
    "\n",
    "\n",
    "    def forward(self, src: torch.Tensor, tgt: torch.Tensor):\n",
    "        print(f'input: {src.shape}')\n",
    "        src = src.flatten(1, 2)\n",
    "        print(f'flattened: {src.shape}')\n",
    "        src = src.permute(0, 2, 1)\n",
    "        print(f'permuted: {src.shape}')\n",
    "        src = self.input_layer(src)\n",
    "        print(f'input layer: {src.shape}')\n",
    "        src = self.pos_encoder(src)\n",
    "        print(f'positional encoding: {src.shape}')\n",
    "        src = src.permute(1, 0, 2)\n",
    "        print(f'permuted: {src.shape}')\n",
    "        memory = self.encoder(src)\n",
    "        print(f'encoder: {memory.shape}')\n",
    "\n",
    "        print()\n",
    "        print(f'target: {tgt.shape}')\n",
    "        tgt = self.embedding(tgt)\n",
    "        print(f'embedding: {tgt.shape}')\n",
    "        tgt = self.pos_encoder(tgt)\n",
    "        print(f'positional encoding: {tgt.shape}')\n",
    "        tgt = tgt.permute(1, 0, 2)\n",
    "        print(f'permuted: {tgt.shape}')\n",
    "        output = self.decoder(tgt, memory)\n",
    "        print(f'decoder: {output.shape}')\n",
    "\n",
    "        output = self.output(output)\n",
    "        print(f'output: {output.shape}')\n",
    "        return output"
   ]
  },
  {
   "cell_type": "markdown",
   "id": "14954739",
   "metadata": {},
   "source": [
    "# TMP"
   ]
  },
  {
   "cell_type": "code",
   "execution_count": 112,
   "id": "3b2bff1c",
   "metadata": {},
   "outputs": [
    {
     "data": {
      "text/html": [
       "<div>\n",
       "<style scoped>\n",
       "    .dataframe tbody tr th:only-of-type {\n",
       "        vertical-align: middle;\n",
       "    }\n",
       "\n",
       "    .dataframe tbody tr th {\n",
       "        vertical-align: top;\n",
       "    }\n",
       "\n",
       "    .dataframe thead th {\n",
       "        text-align: right;\n",
       "    }\n",
       "</style>\n",
       "<table border=\"1\" class=\"dataframe\">\n",
       "  <thead>\n",
       "    <tr style=\"text-align: right;\">\n",
       "      <th></th>\n",
       "      <th>image</th>\n",
       "      <th>midi</th>\n",
       "    </tr>\n",
       "  </thead>\n",
       "  <tbody>\n",
       "    <tr>\n",
       "      <th>0</th>\n",
       "      <td>dataset/252_0.png</td>\n",
       "      <td>dataset/252_0.csv</td>\n",
       "    </tr>\n",
       "    <tr>\n",
       "      <th>1</th>\n",
       "      <td>dataset/252_1.png</td>\n",
       "      <td>dataset/252_1.csv</td>\n",
       "    </tr>\n",
       "    <tr>\n",
       "      <th>2</th>\n",
       "      <td>dataset/252_2.png</td>\n",
       "      <td>dataset/252_2.csv</td>\n",
       "    </tr>\n",
       "    <tr>\n",
       "      <th>3</th>\n",
       "      <td>dataset/252_3.png</td>\n",
       "      <td>dataset/252_3.csv</td>\n",
       "    </tr>\n",
       "    <tr>\n",
       "      <th>4</th>\n",
       "      <td>dataset/252_4.png</td>\n",
       "      <td>dataset/252_4.csv</td>\n",
       "    </tr>\n",
       "    <tr>\n",
       "      <th>...</th>\n",
       "      <td>...</td>\n",
       "      <td>...</td>\n",
       "    </tr>\n",
       "    <tr>\n",
       "      <th>507</th>\n",
       "      <td>dataset/556_57.png</td>\n",
       "      <td>dataset/556_57.csv</td>\n",
       "    </tr>\n",
       "    <tr>\n",
       "      <th>508</th>\n",
       "      <td>dataset/556_58.png</td>\n",
       "      <td>dataset/556_58.csv</td>\n",
       "    </tr>\n",
       "    <tr>\n",
       "      <th>509</th>\n",
       "      <td>dataset/556_59.png</td>\n",
       "      <td>dataset/556_59.csv</td>\n",
       "    </tr>\n",
       "    <tr>\n",
       "      <th>510</th>\n",
       "      <td>dataset/556_60.png</td>\n",
       "      <td>dataset/556_60.csv</td>\n",
       "    </tr>\n",
       "    <tr>\n",
       "      <th>511</th>\n",
       "      <td>dataset/556_61.png</td>\n",
       "      <td>dataset/556_61.csv</td>\n",
       "    </tr>\n",
       "  </tbody>\n",
       "</table>\n",
       "<p>512 rows × 2 columns</p>\n",
       "</div>"
      ],
      "text/plain": [
       "                  image                midi\n",
       "0     dataset/252_0.png   dataset/252_0.csv\n",
       "1     dataset/252_1.png   dataset/252_1.csv\n",
       "2     dataset/252_2.png   dataset/252_2.csv\n",
       "3     dataset/252_3.png   dataset/252_3.csv\n",
       "4     dataset/252_4.png   dataset/252_4.csv\n",
       "..                  ...                 ...\n",
       "507  dataset/556_57.png  dataset/556_57.csv\n",
       "508  dataset/556_58.png  dataset/556_58.csv\n",
       "509  dataset/556_59.png  dataset/556_59.csv\n",
       "510  dataset/556_60.png  dataset/556_60.csv\n",
       "511  dataset/556_61.png  dataset/556_61.csv\n",
       "\n",
       "[512 rows x 2 columns]"
      ]
     },
     "execution_count": 112,
     "metadata": {},
     "output_type": "execute_result"
    }
   ],
   "source": [
    "df = pd.read_csv('dataset.csv')\n",
    "df['image'] = df['image'].apply(lambda x: os.path.join('dataset', x))\n",
    "df['midi'] = df['midi'].apply(lambda x: os.path.join('dataset', x))\n",
    "df"
   ]
  },
  {
   "cell_type": "code",
   "execution_count": 113,
   "id": "ff2687d5",
   "metadata": {},
   "outputs": [],
   "source": [
    "transform = transforms.Compose([\n",
    "    transforms.Resize((128, 64)),\n",
    "    transforms.ToTensor(),\n",
    "])\n",
    "tokenizer = Tokenizer()\n",
    "dataset = FrameDataset(df, tokenizer, transform=transform, max_len=600)\n",
    "loader = DataLoader(dataset, batch_size=2)\n",
    "for i, (image, midi) in enumerate(loader):\n",
    "    # plt.imshow(image[0].permute(1, 2, 0), origin='lower')\n",
    "    if i == 0:\n",
    "        break"
   ]
  },
  {
   "cell_type": "code",
   "execution_count": 131,
   "id": "cd9c51d1",
   "metadata": {},
   "outputs": [
    {
     "name": "stdout",
     "output_type": "stream",
     "text": [
      "input: torch.Size([2, 1, 128, 64])\n",
      "flattened: torch.Size([2, 128, 64])\n",
      "permuted: torch.Size([2, 64, 128])\n",
      "input layer: torch.Size([2, 64, 128])\n",
      "positional encoding: torch.Size([2, 64, 128])\n",
      "permuted: torch.Size([64, 2, 128])\n",
      "encoder: torch.Size([64, 2, 128])\n",
      "\n",
      "target: torch.Size([2, 600])\n",
      "embedding: torch.Size([2, 600, 128])\n",
      "positional encoding: torch.Size([2, 600, 128])\n",
      "permuted: torch.Size([600, 2, 128])\n",
      "decoder: torch.Size([600, 2, 128])\n",
      "output: torch.Size([600, 2, 365])\n",
      "600\n",
      "[65, 252, 349, 158, 337, 337, 337, 179, 29, 319, 19, 65, 158, 295, 132, 349, 281, 349, 126, 45, 29, 126, 337, 169, 243, 169, 337, 158, 233, 65, 319, 126, 337, 85, 127, 12, 120, 158, 179, 158, 163, 45, 120, 45, 45, 281, 337, 65, 158, 337, 243, 158, 281, 281, 120, 3, 120, 120, 120, 45, 185, 224, 119, 120, 336, 120, 185, 179, 70, 224, 45, 281, 224, 65, 336, 185, 252, 12, 319, 127, 253, 349, 45, 12, 121, 328, 65, 185, 349, 45, 120, 100, 336, 185, 169, 12, 129, 281, 2, 129, 281, 45, 349, 65, 336, 231, 231, 217, 231, 169, 136, 136, 136, 203, 337, 136, 281, 244, 281, 281, 203, 281, 281, 281, 136, 136, 189, 136, 136, 189, 136, 189, 136, 189, 189, 189, 189, 189, 189, 189, 189, 17, 281, 281, 281, 281, 281, 281, 281, 281, 281, 281, 281, 281, 35, 35, 185, 281, 281, 281, 281, 281, 136, 281, 281, 281, 281, 136, 136, 132, 132, 315, 281, 136, 328, 328, 136, 136, 189, 189, 189, 189, 189, 189, 189, 136, 126, 185, 281, 281, 281, 281, 281, 35, 360, 185, 185, 281, 281, 35, 203, 203, 203, 17, 169, 244, 244, 169, 328, 281, 281, 281, 281, 281, 281, 281, 281, 281, 281, 281, 203, 132, 281, 281, 281, 281, 203, 281, 136, 281, 281, 136, 185, 136, 281, 136, 136, 136, 203, 203, 203, 203, 328, 328, 328, 136, 136, 136, 136, 136, 244, 136, 328, 281, 328, 281, 281, 281, 281, 281, 281, 328, 281, 244, 136, 328, 281, 281, 281, 281, 203, 281, 132, 132, 132, 132, 328, 328, 328, 281, 328, 136, 328, 336, 132, 136, 132, 136, 328, 328, 203, 136, 185, 136, 328, 185, 132, 185, 281, 136, 185, 136, 281, 281, 136, 281, 136, 281, 328, 281, 328, 281, 281, 153, 244, 328, 116, 328, 328, 185, 185, 132, 328, 132, 132, 328, 281, 281, 132, 281, 132, 119, 336, 281, 132, 132, 132, 244, 244, 185, 281, 185, 281, 281, 244, 244, 185, 244, 281, 185, 244, 132, 45, 281, 336, 281, 281, 281, 45, 203, 185, 45, 185, 244, 136, 136, 136, 136, 45, 281, 185, 185, 136, 281, 281, 185, 185, 185, 203, 244, 328, 45, 328, 328, 328, 244, 328, 328, 45, 45, 281, 45, 45, 281, 281, 244, 203, 185, 169, 45, 45, 45, 45, 337, 45, 203, 185, 185, 185, 328, 185, 132, 185, 185, 185, 185, 281, 185, 281, 185, 185, 185, 185, 185, 132, 185, 185, 185, 281, 281, 185, 185, 185, 185, 185, 185, 185, 185, 185, 244, 169, 328, 281, 281, 45, 328, 328, 45, 45, 45, 328, 328, 244, 328, 328, 328, 328, 328, 45, 328, 189, 328, 281, 328, 185, 185, 328, 132, 328, 281, 45, 281, 281, 35, 203, 45, 45, 45, 203, 45, 185, 45, 328, 328, 185, 328, 185, 328, 185, 185, 185, 185, 185, 185, 132, 185, 185, 203, 328, 185, 328, 328, 185, 328, 328, 132, 232, 232, 328, 328, 328, 132, 328, 185, 132, 328, 132, 262, 328, 328, 328, 328, 328, 328, 328, 328, 169, 232, 132, 281, 185, 185, 169, 107, 328, 328, 328, 281, 328, 328, 136, 136, 136, 328, 132, 328, 328, 136, 281, 281, 281, 281, 281, 281, 132, 328, 281, 328, 281, 281, 328, 328, 328, 328, 328, 328, 328, 328, 328, 328, 328, 328, 328, 328, 328, 328, 328, 328, 328, 328, 281, 132, 132, 185, 132, 328, 328, 328, 17, 185, 328, 328, 328, 328, 328, 328, 281, 328, 328, 328]\n",
      "[(-1, -1, -1), (55, -1, -1), (234, -1, -1), (216, 16, -1), (55, -1, -1), (246, -1, -1), (23, 42, -1), (23, -1, -1), (140, -1, -1), (55, -1, -1), (216, -1, -1), (-1, -1, -1), (17, -1, -1), (55, -1, -1), (17, 42, -1), (178, -1, -1), (55, -1, -1), (55, -1, -1), (17, 0, -1), (17, -1, -1), (82, -1, -1), (17, -1, -1), (82, -1, -1), (121, 42, -1), (121, 62, -1), (82, -1, -1), (216, -1, -1), (246, 42, -1), (18, -1, -1), (82, -1, -1), (17, 97, -1), (82, -1, -1), (26, -1, 1), (26, -1, -1), (246, 62, -1), (128, -1, -1), (128, -1, -1), (33, -1, -1), (234, -1, -1), (141, -1, -1), (100, -1, -1), (178, -1, -1), (86, -1, -1), (86, -1, -1), (33, -1, -1), (86, -1, -1), (86, -1, -1), (-1, -1, -1), (178, -1, -1), (178, -1, -1), (178, -1, -1), (178, 32, -1), (82, -1, -1), (178, -1, -1), (33, -1, -1), (178, -1, -1), (33, -1, -1), (212, -1, -1), (225, -1, -1), (33, -1, -1), (86, -1, -1), (86, -1, -1), (23, -1, -1), (178, -1, -1), (178, 32, -1), (82, -1, -1), (178, 32, -1), (100, -1, -1), (66, -1, -1), (66, -1, -1), (178, -1, -1), (178, -1, -1), (178, -1, -1), (178, -1, -1), (178, -1, -1), (178, -1, -1), (33, -1, -1), (33, -1, -1), (178, -1, -1), (33, -1, -1), (100, -1, -1), (225, -1, -1), (33, -1, -1), (33, -1, -1), (225, -1, -1), (178, -1, -1), (178, -1, -1), (225, -1, -1), (33, -1, -1), (178, -1, -1), (100, -1, -1), (29, -1, -1), (225, -1, -1), (178, -1, -1), (225, -1, -1), (33, -1, -1), (225, -1, -1), (33, -1, -1), (225, -1, -1), (82, -1, -1), (82, -1, -1), (178, -1, -1), (33, -1, -1), (178, -1, -1), (178, -1, -1), (225, -1, -1), (225, -1, -1), (29, -1, -1), (29, -1, -1), (178, -1, -1), (29, -1, -1), (178, -1, -1), (29, -1, -1), (82, -1, -1), (178, -1, -1), (141, -1, -1), (178, -1, -1), (29, 42, -1), (233, -1, -1), (178, 42, -1), (82, 42, -1), (141, -1, -1), (33, -1, -1), (178, -1, -1), (33, -1, -1), (82, -1, -1), (100, -1, -1), (-1, -1, -1), (225, -1, -1), (225, 42, -1), (178, 42, -1), (178, -1, -1), (100, -1, -1), (-1, 42, -1), (-1, -1, -1), (100, -1, -1), (82, -1, -1), (29, -1, -1), (82, -1, -1), (82, -1, -1), (82, -1, -1), (82, -1, -1), (82, -1, -1), (178, -1, -1), (82, -1, -1), (82, -1, -1), (82, -1, -1), (225, -1, -1), (-1, -1, -1), (-1, 42, -1), (225, -1, -1), (225, -1, -1), (225, -1, -1), (225, -1, -1), (178, -1, -1), (82, -1, -1), (225, -1, -1), (178, -1, -1), (100, 42, -1), (-1, -1, -1), (82, 42, -1), (225, -1, -1), (82, -1, -1), (82, -1, -1), (82, -1, -1), (82, -1, -1), (225, -1, -1), (225, -1, -1), (225, -1, -1), (129, -1, -1), (225, -1, -1), (82, -1, -1), (29, -1, -1), (225, -1, -1), (225, -1, -1), (225, -1, -1), (29, -1, -1), (82, -1, -1), (225, -1, -1), (178, -1, -1), (33, -1, -1), (225, -1, -1), (225, -1, -1), (178, -1, -1), (178, -1, -1), (225, -1, -1), (178, -1, -1), (225, -1, -1), (225, -1, -1), (225, -1, -1), (225, -1, -1), (225, -1, -1), (225, -1, -1), (225, -1, -1), (29, -1, -1), (225, -1, -1), (-1, -1, -1), (225, -1, -1), (225, -1, -1), (225, -1, -1)]\n"
     ]
    },
    {
     "name": "stderr",
     "output_type": "stream",
     "text": [
      "/home/jakub/miniconda3/envs/midi/lib/python3.13/site-packages/torch/nn/modules/transformer.py:385: UserWarning: enable_nested_tensor is True, but self.use_nested_tensor is False because encoder_layer.self_attn.batch_first was not True(use batch_first for better inference performance)\n",
      "  warnings.warn(\n"
     ]
    }
   ],
   "source": [
    "model = PianoTranscriber(128, len(tokenizer.id_to_token)).to(device)\n",
    "\n",
    "for i, (image, midi) in enumerate(loader):\n",
    "    image = image.to(device)\n",
    "    midi = midi.to(device)\n",
    "    output = model(image, midi)\n",
    "    output = output.permute(1, 0, 2)\n",
    "    output = output.argmax(dim=2)\n",
    "    output = output[0]\n",
    "    output = output.cpu().numpy().tolist()\n",
    "    print(len(output))\n",
    "    print(output)\n",
    "    output = tokenizer.id_list_to_tuple_list(output)\n",
    "    print(output)\n",
    "    break"
   ]
  },
  {
   "cell_type": "markdown",
   "id": "223ec9ba",
   "metadata": {},
   "source": [
    "# Solving"
   ]
  }
 ],
 "metadata": {
  "kernelspec": {
   "display_name": "midi",
   "language": "python",
   "name": "python3"
  },
  "language_info": {
   "codemirror_mode": {
    "name": "ipython",
    "version": 3
   },
   "file_extension": ".py",
   "mimetype": "text/x-python",
   "name": "python",
   "nbconvert_exporter": "python",
   "pygments_lexer": "ipython3",
   "version": "3.13.2"
  }
 },
 "nbformat": 4,
 "nbformat_minor": 5
}
