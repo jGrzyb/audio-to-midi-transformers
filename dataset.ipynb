{
 "cells": [
  {
   "cell_type": "markdown",
   "id": "1dc3b18e",
   "metadata": {},
   "source": [
    "# Imports"
   ]
  },
  {
   "cell_type": "code",
   "execution_count": 1,
   "id": "01406e7d",
   "metadata": {},
   "outputs": [
    {
     "name": "stdout",
     "output_type": "stream",
     "text": [
      "Using device: cuda\n"
     ]
    }
   ],
   "source": [
    "import torch\n",
    "from torch import nn\n",
    "from torch.nn import functional as F\n",
    "from torch.utils.data import Dataset, DataLoader\n",
    "from torchvision import transforms\n",
    "from torch.nn.utils.rnn import pad_sequence\n",
    "\n",
    "import pandas as pd\n",
    "import os\n",
    "from PIL import Image\n",
    "import numpy as np\n",
    "import matplotlib.pyplot as plt\n",
    "import time\n",
    "from sklearn.model_selection import train_test_split\n",
    "import h5py\n",
    "import random\n",
    "\n",
    "device = torch.device(\"cuda\" if torch.cuda.is_available() else \"cpu\")\n",
    "print(f\"Using device: {device}\")"
   ]
  },
  {
   "cell_type": "markdown",
   "id": "9f8c9d8b",
   "metadata": {},
   "source": [
    "# Tokenizer"
   ]
  },
  {
   "cell_type": "code",
   "execution_count": 2,
   "id": "c979fb72",
   "metadata": {},
   "outputs": [],
   "source": [
    "class Tokenizer:\n",
    "    def __init__(self, time_count: int = 26, note_count: int = 110, vel_count: int = 2):\n",
    "        self.val_to_velo_id: dict = {i: i + 1 for i in range(vel_count)}\n",
    "        self.val_to_note_id: dict = {i: i + 1 + vel_count for i in range(note_count)}\n",
    "        self.val_to_time_id: dict = {i: i + 1 + vel_count + note_count for i in range(time_count)}\n",
    "\n",
    "        self.velo_id_to_val: dict = {v: k for k, v in self.val_to_velo_id.items()}\n",
    "        self.note_id_to_val: dict = {v: k for k, v in self.val_to_note_id.items()}\n",
    "        self.time_id_to_val: dict = {v: k for k, v in self.val_to_time_id.items()}\n",
    "        \n",
    "        self.id_to_token: dict = {\n",
    "            **{self.val_to_velo_id[i]: f'velo_{i}' for i in self.val_to_velo_id},\n",
    "            **{self.val_to_note_id[i]: f'note_{i}' for i in self.val_to_note_id},\n",
    "            **{self.val_to_time_id[i]: f'time_{i}' for i in self.val_to_time_id},\n",
    "            0: '<pad>',\n",
    "            vel_count + note_count + time_count + 1: '<bos>',\n",
    "            vel_count + note_count + time_count + 2: '<eos>'\n",
    "        }\n",
    "        \n",
    "        self.token_to_id: dict = {v: k for k, v in self.id_to_token.items()}\n",
    "    \n",
    "\n",
    "    def tuple_to_ids(self, tuple: tuple):\n",
    "        return [self.val_to_time_id[tuple[0]], self.val_to_note_id[tuple[1]], self.val_to_velo_id[tuple[2]]]\n",
    "    \n",
    "\n",
    "    def tuple_list_to_ids(self, tuple_list: list[tuple]):\n",
    "        l = []\n",
    "        for t in tuple_list:\n",
    "            l.extend(self.tuple_to_ids(t))\n",
    "        return l\n",
    "\n",
    "\n",
    "    def id_list_to_tuple_list(self, id_list: list[int]):\n",
    "        l = []\n",
    "        for i in range(0, len(id_list), 3):\n",
    "            if i + 3 > len(id_list):\n",
    "                break\n",
    "            t = []\n",
    "            for j, d in enumerate([self.time_id_to_val, self.note_id_to_val, self.velo_id_to_val]):\n",
    "                if min(d) <= id_list[i+j] <= max(d):\n",
    "                    t.append(d[id_list[i+j]])\n",
    "                else:\n",
    "                    t.append(-1)\n",
    "            l.append(tuple(t))\n",
    "        return l"
   ]
  },
  {
   "cell_type": "markdown",
   "id": "2dcb465d",
   "metadata": {},
   "source": [
    "# Dataset"
   ]
  },
  {
   "cell_type": "code",
   "execution_count": 3,
   "id": "dfc614c7",
   "metadata": {},
   "outputs": [],
   "source": [
    "# class FrameDataset(Dataset):\n",
    "#     def __init__(self, image_midi_path_pairs: list[tuple], tokenizer: Tokenizer, max_leng: int, transform: transforms.Compose = None):\n",
    "#         self.df = image_midi_path_pairs\n",
    "#         self.tokenizer = tokenizer\n",
    "#         self.transform = transform if transform else transforms.ToTensor()\n",
    "#         self.max_leng = max_leng\n",
    "\n",
    "#     def __len__(self):\n",
    "#         return len(self.df)\n",
    "\n",
    "#     def __getitem__(self, idx):\n",
    "#         image_path = self.df.iloc[idx]['image']\n",
    "#         midi_path = self.df.iloc[idx]['midi']\n",
    "\n",
    "#         image = Image.open(image_path).convert('L')\n",
    "#         image = self.transform(image)\n",
    "\n",
    "#         midi = pd.read_csv(midi_path)\n",
    "#         midi['time'] = midi['time'] // 100\n",
    "#         midi['velocity'] = (midi['velocity'] > 0).astype(int)\n",
    "#         midi = midi.values.tolist()\n",
    "#         midi = self.tokenizer.tuple_list_to_ids(midi)\n",
    "#         midi.insert(0, self.tokenizer.token_to_id['<bos>'])\n",
    "#         midi.append(self.tokenizer.token_to_id['<eos>'])\n",
    "#         midi.extend([self.tokenizer.token_to_id['<pad>']] * (self.max_leng - len(midi)))\n",
    "#         midi = torch.tensor(midi, dtype=torch.long)\n",
    "\n",
    "#         return image, midi"
   ]
  },
  {
   "cell_type": "code",
   "execution_count": 4,
   "id": "031eab2c",
   "metadata": {},
   "outputs": [],
   "source": [
    "class Collate:\n",
    "    def __init__(self, pad_id: int):\n",
    "        self.pad_id = pad_id\n",
    "\n",
    "    def __call__(self, batch):\n",
    "        images, midis = zip(*batch)\n",
    "        images = torch.stack(images)\n",
    "        midis = pad_sequence(midis, batch_first=True, padding_value=self.pad_id)\n",
    "        return images, midis\n",
    "\n",
    "\n",
    "class DatasetPathLoader:\n",
    "    def __init__(self, h5_path: str, max_len, min_note: int = 0, max_note: int = 110):\n",
    "        self.h5_path = h5_path\n",
    "        self.data = []\n",
    "        with h5py.File(h5_path, 'r') as h5:\n",
    "            for piece_name in h5.keys():\n",
    "                piece_group = h5[piece_name]\n",
    "                for chunk_name in piece_group.keys():\n",
    "                    chunk_group = piece_group[chunk_name]\n",
    "                    meta = chunk_group['meta']\n",
    "                    if meta[0] >= min_note and meta[1] <= max_note and meta[2] <= max_len / 3 - 1 and meta[2] > 0:\n",
    "                        self.data.append((piece_name, chunk_name))\n",
    "\n",
    "\n",
    "class H5Dataset(Dataset):\n",
    "    def __init__(self, h5_path: str, data_paths: list[tuple], tokenizer: Tokenizer, transform: transforms.Compose = None):\n",
    "        self.h5_path = h5_path\n",
    "        self.tokenizer = tokenizer\n",
    "        self.data = data_paths\n",
    "        self.transform = transform if transform else transforms.ToTensor()\n",
    "\n",
    "    def __len__(self):\n",
    "        return len(self.data)\n",
    "\n",
    "    def __getitem__(self, idx):\n",
    "        with h5py.File(self.h5_path, 'r') as h5:\n",
    "            piece_name, chunk_name = self.data[idx]\n",
    "            piece_group = h5[piece_name]\n",
    "            chunk_group = piece_group[chunk_name]\n",
    "\n",
    "            image = chunk_group['image'][:]\n",
    "            image = self.transform(image)\n",
    "            \n",
    "            midi = chunk_group['midi'][:]\n",
    "            midi[:, 0] = midi[:, 0] // 100\n",
    "            midi[:, 2] = (midi[:, 2] > 0).astype(np.uint8)\n",
    "            midi = midi.tolist()\n",
    "            midi = self.tokenizer.tuple_list_to_ids(midi)\n",
    "            midi.insert(0, self.tokenizer.token_to_id['<bos>'])\n",
    "            midi.append(self.tokenizer.token_to_id['<eos>'])\n",
    "\n",
    "        return image, torch.tensor(midi)"
   ]
  },
  {
   "cell_type": "markdown",
   "id": "53143e4f",
   "metadata": {},
   "source": [
    "# Helpers"
   ]
  },
  {
   "cell_type": "markdown",
   "id": "212d4c10",
   "metadata": {},
   "source": [
    "### progress bar"
   ]
  },
  {
   "cell_type": "code",
   "execution_count": 5,
   "id": "ceb49d9b",
   "metadata": {},
   "outputs": [],
   "source": [
    "class ProgressBar:\n",
    "    def __init__(self, total: int):\n",
    "        self.total = total\n",
    "        self.current = 0\n",
    "        self.last_progress = 0\n",
    "        self.start_time = time.time()\n",
    "\n",
    "    def update(self, current: int, epochs: str):\n",
    "        self.current = current\n",
    "        progress = (self.current / self.total) * 100\n",
    "        if int(progress) > self.last_progress:\n",
    "            elapsed_time = time.time() - self.start_time\n",
    "            print(\n",
    "                f'\\rEpoch: {epochs.rjust(7)} {str(int(progress)).rjust(3)}% | Elapsed: {str(int(elapsed_time)).rjust(3)}s', end='')\n",
    "            self.last_progress = int(progress)"
   ]
  },
  {
   "cell_type": "markdown",
   "id": "d2d9ee56",
   "metadata": {},
   "source": [
    "### metrics tracker"
   ]
  },
  {
   "cell_type": "code",
   "execution_count": 6,
   "id": "1c9ac247",
   "metadata": {},
   "outputs": [],
   "source": [
    "class MetricsTracker:\n",
    "    def __init__(self):\n",
    "        self.losses = []\n",
    "        self.accuracies = []\n",
    "\n",
    "    def update(self, loss: float, accuracy: float):\n",
    "        self.losses.append(loss)\n",
    "        self.accuracies.append(accuracy)\n",
    "\n",
    "    def get_average_loss(self):\n",
    "        return sum(self.losses) / len(self.losses) if self.losses else 0.0\n",
    "\n",
    "    def get_average_accuracy(self):\n",
    "        return sum(self.accuracies) / len(self.accuracies) if self.accuracies else 0.0"
   ]
  },
  {
   "cell_type": "markdown",
   "id": "e35f983e",
   "metadata": {},
   "source": [
    "### validator"
   ]
  },
  {
   "cell_type": "code",
   "execution_count": 7,
   "id": "5469a428",
   "metadata": {},
   "outputs": [],
   "source": [
    "class Validator:\n",
    "    def __init__(self, model: nn.Module, criterion: nn.CrossEntropyLoss, device: torch.device):\n",
    "        self.model = model\n",
    "        self.criterion = criterion\n",
    "        self.device = device\n",
    "\n",
    "    def validate(self, val_loader: DataLoader) -> tuple:\n",
    "        self.model.eval()\n",
    "        metrics_tracker = MetricsTracker()\n",
    "\n",
    "        with torch.no_grad():\n",
    "            for image, midi in val_loader:\n",
    "                image: torch.Tensor = image.to(self.device)\n",
    "                midi: torch.Tensor = midi.to(self.device)\n",
    "\n",
    "                input_tokens: torch.Tensor = midi[:, :-1]\n",
    "                target_tokens: torch.Tensor = midi[:, 1:]\n",
    "                target_tokens = target_tokens.reshape(-1)\n",
    "\n",
    "                output: torch.Tensor = self.model(image, input_tokens)\n",
    "                output = output.reshape(-1, output.shape[-1])\n",
    "\n",
    "                loss: torch.Tensor = self.criterion(output, target_tokens)\n",
    "                accuracy = (output.argmax(dim=1) ==\n",
    "                            target_tokens).float().mean().item()\n",
    "\n",
    "                metrics_tracker.update(loss.item(), accuracy)\n",
    "\n",
    "        avg_loss = metrics_tracker.get_average_loss()\n",
    "        avg_accuracy = metrics_tracker.get_average_accuracy()\n",
    "\n",
    "        return avg_loss, avg_accuracy"
   ]
  },
  {
   "cell_type": "markdown",
   "id": "9d3c907d",
   "metadata": {},
   "source": [
    "### validator with outputs"
   ]
  },
  {
   "cell_type": "code",
   "execution_count": 8,
   "id": "3ca817b2",
   "metadata": {},
   "outputs": [],
   "source": [
    "class ValidatorWithOutputs:\n",
    "    def __init__(self, model: nn.Module, criterion: nn.CrossEntropyLoss, device: torch.device):\n",
    "        self.model = model\n",
    "        self.criterion = criterion\n",
    "        self.device = device\n",
    "\n",
    "    def validate(self, val_loader: DataLoader) -> tuple:\n",
    "        self.model.eval()\n",
    "        outputs = []\n",
    "\n",
    "        with torch.no_grad():\n",
    "            for image, midi in val_loader:\n",
    "                image: torch.Tensor = image.to(self.device)\n",
    "                midi: torch.Tensor = midi.to(self.device)\n",
    "\n",
    "                input_tokens: torch.Tensor = midi[:, :-1]\n",
    "                target_tokens: torch.Tensor = midi[:, 1:]\n",
    "                target_tokens = target_tokens.reshape(-1)\n",
    "\n",
    "                output: torch.Tensor = self.model(image, input_tokens)\n",
    "                output = output.reshape(-1, output.shape[-1])\n",
    "\n",
    "                predicted = output.argmax(dim=1).cpu().tolist()\n",
    "                expected = target_tokens.cpu().tolist()\n",
    "\n",
    "                outputs.append((predicted, expected))\n",
    "\n",
    "        return outputs"
   ]
  },
  {
   "cell_type": "markdown",
   "id": "011e2e09",
   "metadata": {},
   "source": [
    "### positional encoding"
   ]
  },
  {
   "cell_type": "code",
   "execution_count": 9,
   "id": "798c74db",
   "metadata": {},
   "outputs": [],
   "source": [
    "class PositionalEncoding(nn.Module):\n",
    "    def __init__(self, d_model: int):\n",
    "        super(PositionalEncoding, self).__init__()\n",
    "        self.encoding = torch.zeros(1500, d_model).to(device)\n",
    "        position = torch.arange(0, 1500, dtype=torch.float).unsqueeze(1)\n",
    "        div_term = torch.exp(torch.arange(0, d_model, 2).float() * -(np.log(10000.0) / d_model))\n",
    "        self.encoding[:, 0::2] = torch.sin(position * div_term)\n",
    "        self.encoding[:, 1::2] = torch.cos(position * div_term)\n",
    "        self.encoding = self.encoding.unsqueeze(0)\n",
    "    \n",
    "    def forward(self, x: torch.Tensor):\n",
    "        x = x + self.encoding[:, :x.size(1), :]\n",
    "        return x"
   ]
  },
  {
   "cell_type": "markdown",
   "id": "ccaf8711",
   "metadata": {},
   "source": [
    "### history"
   ]
  },
  {
   "cell_type": "code",
   "execution_count": 10,
   "id": "faa812dd",
   "metadata": {},
   "outputs": [],
   "source": [
    "class TrainingHistory:\n",
    "    def __init__(self):\n",
    "        self.history = {\n",
    "            'train_loss': [],\n",
    "            'train_accuracy': [],\n",
    "            'val_loss': [],\n",
    "            'val_accuracy': []\n",
    "        }\n",
    "\n",
    "    def update(self, train_loss: float, train_accuracy: float, val_loss: float, val_accuracy: float):\n",
    "        self.history['train_loss'].append(train_loss)\n",
    "        self.history['train_accuracy'].append(train_accuracy)\n",
    "        self.history['val_loss'].append(val_loss)\n",
    "        self.history['val_accuracy'].append(val_accuracy)\n",
    "\n",
    "    def get_history(self):\n",
    "        return self.history\n",
    "\n",
    "    def plot(self):\n",
    "        epochs = range(1, len(self.history['train_loss']) + 1)\n",
    "        plt.figure(figsize=(12, 6))\n",
    "\n",
    "        # Plot loss\n",
    "        plt.subplot(1, 2, 1)\n",
    "        plt.plot(epochs, self.history['train_loss'], label='Train Loss')\n",
    "        plt.plot(epochs, self.history['val_loss'], label='Validation Loss')\n",
    "        plt.title('Loss')\n",
    "        plt.xlabel('Epochs')\n",
    "        plt.ylabel('Loss')\n",
    "        plt.legend()\n",
    "\n",
    "        # Plot accuracy\n",
    "        plt.subplot(1, 2, 2)\n",
    "        plt.plot(epochs, self.history['train_accuracy'], label='Train Accuracy')\n",
    "        plt.plot(epochs, self.history['val_accuracy'], label='Validation Accuracy')\n",
    "        plt.title('Accuracy')\n",
    "        plt.xlabel('Epochs')\n",
    "        plt.ylabel('Accuracy')\n",
    "        plt.legend()\n",
    "\n",
    "        plt.tight_layout()\n",
    "        plt.show()"
   ]
  },
  {
   "cell_type": "markdown",
   "id": "0d6f26c3",
   "metadata": {},
   "source": [
    "### early topping"
   ]
  },
  {
   "cell_type": "code",
   "execution_count": 11,
   "id": "bfcc0e20",
   "metadata": {},
   "outputs": [],
   "source": [
    "class EarlyStopping:\n",
    "    def __init__(self, patience=5, delta=0, path='checkpoint.pt', verbose=False):\n",
    "        self.patience = patience\n",
    "        self.delta = delta\n",
    "        self.path = path\n",
    "        self.verbose = verbose\n",
    "        self.counter = 0\n",
    "        self.best_score = None\n",
    "        self.early_stop = False\n",
    "        self.val_loss_min = float('inf')\n",
    "\n",
    "    def __call__(self, val_loss, model):\n",
    "        score = -val_loss\n",
    "\n",
    "        if self.best_score is None:\n",
    "            self.best_score = score\n",
    "            self.save_checkpoint(val_loss, model)\n",
    "        elif score < self.best_score + self.delta:\n",
    "            self.counter += 1\n",
    "            if self.verbose:\n",
    "                print(f'EarlyStopping counter: {self.counter} out of {self.patience}')\n",
    "            if self.counter >= self.patience:\n",
    "                self.early_stop = True\n",
    "        else:\n",
    "            self.best_score = score\n",
    "            self.save_checkpoint(val_loss, model)\n",
    "            self.counter = 0\n",
    "\n",
    "    def save_checkpoint(self, val_loss, model):\n",
    "        if self.verbose:\n",
    "            print(f'Validation loss decreased ({self.val_loss_min:.6f} --> {val_loss:.6f}).  Saving model ...')\n",
    "        torch.save(model.state_dict(), self.path)\n",
    "        self.val_loss_min = val_loss"
   ]
  },
  {
   "cell_type": "markdown",
   "id": "9982a26d",
   "metadata": {},
   "source": [
    "# Train"
   ]
  },
  {
   "cell_type": "code",
   "execution_count": 12,
   "id": "822ce975",
   "metadata": {},
   "outputs": [],
   "source": [
    "def train(\n",
    "    model: nn.Module,\n",
    "    train_loader: DataLoader,\n",
    "    val_loader: DataLoader,\n",
    "    criterion: nn.CrossEntropyLoss,\n",
    "    optimizer: torch.optim.Optimizer,\n",
    "    epochs: int,\n",
    "    device: torch.device = device,\n",
    "    history: TrainingHistory = None,\n",
    "    early_stopping: EarlyStopping = None\n",
    "):\n",
    "    for epoch in range(epochs):\n",
    "        progress_bar = ProgressBar(len(train_loader))\n",
    "        metrics_tracker = MetricsTracker()\n",
    "        validator = Validator(model, criterion, device)\n",
    "        model.train()\n",
    "\n",
    "        for i, (image, midi) in enumerate(train_loader):\n",
    "            image: torch.Tensor = image.to(device)\n",
    "            midi: torch.Tensor = midi.to(device)\n",
    "\n",
    "            input_tokens = midi[:, :-1]\n",
    "            target_tokens = midi[:, 1:]\n",
    "            target_tokens = target_tokens.reshape(-1)\n",
    "\n",
    "            output: torch.Tensor = model(image, input_tokens)\n",
    "            output = output.reshape(-1, output.shape[-1])\n",
    "\n",
    "            loss: torch.Tensor = criterion(output, target_tokens)\n",
    "            optimizer.zero_grad()\n",
    "            loss.backward()\n",
    "            optimizer.step()\n",
    "\n",
    "            accuracy = (output.argmax(dim=1) == target_tokens).float().mean().item()\n",
    "            metrics_tracker.update(loss.item(), accuracy)\n",
    "\n",
    "            progress_bar.update(i + 1, f'{epoch + 1}/{epochs}')\n",
    "\n",
    "        print(f' | loss: {metrics_tracker.get_average_loss():.4f} - acc: {metrics_tracker.get_average_accuracy():.4f}', end='')\n",
    "        val_loss, val_acc = validator.validate(val_loader)\n",
    "        print(f' | val_loss: {val_loss:.4f} - val_acc: {val_acc:.4f}')\n",
    "\n",
    "        if history:\n",
    "            history.update(metrics_tracker.get_average_loss(), metrics_tracker.get_average_accuracy(), val_loss, val_acc)\n",
    "        \n",
    "        if early_stopping:\n",
    "            early_stopping(val_loss, model)\n",
    "            if early_stopping.early_stop:\n",
    "                print(\"Early stopping\")\n",
    "                break"
   ]
  },
  {
   "cell_type": "markdown",
   "id": "c6914510",
   "metadata": {},
   "source": [
    "# Model"
   ]
  },
  {
   "cell_type": "code",
   "execution_count": 13,
   "id": "ee567d8b",
   "metadata": {},
   "outputs": [],
   "source": [
    "class PianoTranscriber(nn.Module):\n",
    "    def __init__(self, input_size: int, vocab_size: int, d_model: int = 128, nhead: int = 8, num_layers: int = 6):\n",
    "        super(PianoTranscriber, self).__init__()\n",
    "\n",
    "        self.input_layer = nn.Linear(input_size, d_model)\n",
    "        self.input_norm = nn.LayerNorm(d_model)\n",
    "        self.input_dropout = nn.Dropout(p=0.2)\n",
    "\n",
    "        self.pos_encoder = PositionalEncoding(d_model)\n",
    "        self.pos_norm = nn.LayerNorm(d_model)\n",
    "        self.pos_dropout = nn.Dropout(p=0.2)\n",
    "\n",
    "        encoder_layer = nn.TransformerEncoderLayer(\n",
    "            d_model, nhead, dropout=0.2, norm_first=True)\n",
    "        self.encoder = nn.TransformerEncoder(encoder_layer, num_layers)\n",
    "\n",
    "        decoder_layer = nn.TransformerDecoderLayer(\n",
    "            d_model, nhead, dropout=0.2, norm_first=True)\n",
    "        self.decoder = nn.TransformerDecoder(decoder_layer, num_layers)\n",
    "\n",
    "        self.embedding = nn.Embedding(vocab_size, d_model)\n",
    "        self.output_norm = nn.LayerNorm(d_model)\n",
    "        self.output_dropout = nn.Dropout(p=0.2)\n",
    "        self.output = nn.Linear(d_model, vocab_size)\n",
    "\n",
    "    def forward(self, src: torch.Tensor, tgt: torch.Tensor):\n",
    "        src = src.flatten(1, 2)\n",
    "        src = src.permute(0, 2, 1)\n",
    "        src = self.input_layer(src)\n",
    "        src = self.input_norm(src)\n",
    "        src = self.input_dropout(src)\n",
    "        src = self.pos_encoder(src)\n",
    "        src = self.pos_norm(src)\n",
    "        src = self.pos_dropout(src)\n",
    "        src = src.permute(1, 0, 2)\n",
    "        memory = self.encoder(src)\n",
    "\n",
    "        tgt = self.embedding(tgt)\n",
    "        tgt = self.pos_encoder(tgt)\n",
    "        tgt = self.pos_norm(tgt)\n",
    "        tgt = self.pos_dropout(tgt)\n",
    "        tgt = tgt.permute(1, 0, 2)\n",
    "\n",
    "        tgt_mask = self.generate_square_subsequent_mask(\n",
    "            tgt.size(0)).to(tgt.device)\n",
    "\n",
    "        output = self.decoder(tgt, memory, tgt_mask=tgt_mask)\n",
    "        output = self.output_norm(output)\n",
    "        output = self.output_dropout(output)\n",
    "        output = self.output(output)\n",
    "        output = output.permute(1, 0, 2)\n",
    "        return output\n",
    "    \n",
    "    def generate_square_subsequent_mask(self, sz):\n",
    "        return torch.triu(torch.full((sz, sz), float('-inf')), diagonal=1)"
   ]
  },
  {
   "cell_type": "markdown",
   "id": "14954739",
   "metadata": {},
   "source": [
    "# Example"
   ]
  },
  {
   "cell_type": "markdown",
   "id": "12ae183a",
   "metadata": {},
   "source": [
    "### Prep"
   ]
  },
  {
   "cell_type": "code",
   "execution_count": 14,
   "id": "ff2687d5",
   "metadata": {},
   "outputs": [],
   "source": [
    "h5_path = 'dataset.h5'\n",
    "model_name = 'model'\n",
    "MAX_LEN = 401\n",
    "tokenizer = Tokenizer()"
   ]
  },
  {
   "cell_type": "code",
   "execution_count": null,
   "id": "624959d2",
   "metadata": {},
   "outputs": [],
   "source": [
    "transform = transforms.Compose([\n",
    "    transforms.ToTensor(),\n",
    "    transforms.Resize((512, 128)),\n",
    "    transforms.Normalize((0.5,), (0.5,))\n",
    "])"
   ]
  },
  {
   "cell_type": "code",
   "execution_count": 16,
   "id": "f263832b",
   "metadata": {},
   "outputs": [
    {
     "name": "stdout",
     "output_type": "stream",
     "text": [
      "Total data: 31940\n"
     ]
    }
   ],
   "source": [
    "path_loader = DatasetPathLoader(h5_path, MAX_LEN)\n",
    "data = path_loader.data\n",
    "# data = random.sample(path_loader.data, 1000)\n",
    "print(f\"Total data: {len(data)}\")\n",
    "train_data, val_data = train_test_split(data, test_size=0.1)\n",
    "val_data, test_data = train_test_split(val_data, test_size=0.1)"
   ]
  },
  {
   "cell_type": "code",
   "execution_count": 17,
   "id": "f7a64651",
   "metadata": {},
   "outputs": [],
   "source": [
    "train_dataset = H5Dataset(h5_path, train_data, tokenizer, transform)\n",
    "val_dataset = H5Dataset(h5_path, val_data, tokenizer, transform)\n",
    "collate = Collate(tokenizer.token_to_id['<pad>'])\n",
    "train_loader = DataLoader(train_dataset, batch_size=32, num_workers=4, shuffle=True, collate_fn=collate)\n",
    "val_loader = DataLoader(val_dataset, batch_size=32, num_workers=4, shuffle=False, collate_fn=collate)"
   ]
  },
  {
   "cell_type": "code",
   "execution_count": 18,
   "id": "b2df54c1",
   "metadata": {},
   "outputs": [
    {
     "name": "stderr",
     "output_type": "stream",
     "text": [
      "/home/jakub/miniconda3/envs/midi/lib/python3.13/site-packages/torch/nn/modules/transformer.py:385: UserWarning: enable_nested_tensor is True, but self.use_nested_tensor is False because encoder_layer.norm_first was True\n",
      "  warnings.warn(\n"
     ]
    }
   ],
   "source": [
    "model = PianoTranscriber(256, len(tokenizer.id_to_token)).to(device)\n",
    "criterion = nn.CrossEntropyLoss(ignore_index=tokenizer.token_to_id['<pad>']).to(device)\n",
    "optimizer = torch.optim.Adam(model.parameters(), lr=0.001)\n",
    "history = TrainingHistory()\n",
    "early_stopping = EarlyStopping(patience=5, path=f'{model_name}_{time.strftime(\"%Y%m%d-%H%M%S\")}.pt')"
   ]
  },
  {
   "cell_type": "markdown",
   "id": "104057e8",
   "metadata": {},
   "source": [
    "### Training"
   ]
  },
  {
   "cell_type": "code",
   "execution_count": 19,
   "id": "07d3ebdc",
   "metadata": {},
   "outputs": [
    {
     "name": "stdout",
     "output_type": "stream",
     "text": [
      "Epoch:     1/1 100% | Elapsed: 481s | loss: 2.1334 - acc: 0.1724 | val_loss: 1.8098 - val_acc: 0.2094\n"
     ]
    }
   ],
   "source": [
    "train(model, train_loader, val_loader, criterion, optimizer, epochs=1, device=device, history=history, early_stopping=early_stopping)"
   ]
  },
  {
   "cell_type": "markdown",
   "id": "5b21bdfb",
   "metadata": {},
   "source": [
    "# Tests"
   ]
  },
  {
   "cell_type": "code",
   "execution_count": 20,
   "id": "3cb90177",
   "metadata": {},
   "outputs": [],
   "source": [
    "def get_param_acc(outputs):\n",
    "    res = np.zeros((len(outputs), 3))\n",
    "    for i, el in enumerate(outputs):\n",
    "        el = np.array(el)\n",
    "        el = el[:, :-1]\n",
    "        el = el.reshape(2, -1, 3)\n",
    "        res[i] = (el[0] == el[1]).sum(axis=0) / len(el[0])\n",
    "    return res.sum(axis=0) / len(outputs)"
   ]
  },
  {
   "cell_type": "code",
   "execution_count": 21,
   "id": "371aec01",
   "metadata": {},
   "outputs": [
    {
     "name": "stdout",
     "output_type": "stream",
     "text": [
      "[0.59337152 0.03774063 0.51889215]\n"
     ]
    }
   ],
   "source": [
    "test_dataset = H5Dataset(h5_path, test_data, tokenizer, transform)\n",
    "test_loader = DataLoader(test_dataset, batch_size=1, num_workers=4, shuffle=False, collate_fn=collate)\n",
    "\n",
    "criterion = nn.CrossEntropyLoss(ignore_index=tokenizer.token_to_id['<pad>']).to(device)\n",
    "optimizer = torch.optim.Adam(model.parameters(), lr=0.001)\n",
    "\n",
    "val_with_outs = ValidatorWithOutputs(model, criterion, device)\n",
    "outputs = val_with_outs.validate(test_loader)\n",
    "\n",
    "print(get_param_acc(outputs))"
   ]
  },
  {
   "cell_type": "code",
   "execution_count": 22,
   "id": "137663b9",
   "metadata": {},
   "outputs": [
    {
     "data": {
      "image/png": "[encoded data removed]",
      "text/plain": [
       "<Figure size 1200x600 with 2 Axes>"
      ]
     },
     "metadata": {},
     "output_type": "display_data"
    }
   ],
   "source": [
    "history.plot()"
   ]
  }
 ],
 "metadata": {
  "kernelspec": {
   "display_name": "midi",
   "language": "python",
   "name": "python3"
  },
  "language_info": {
   "codemirror_mode": {
    "name": "ipython",
    "version": 3
   },
   "file_extension": ".py",
   "mimetype": "text/x-python",
   "name": "python",
   "nbconvert_exporter": "python",
   "pygments_lexer": "ipython3",
   "version": "3.13.2"
  }
 },
 "nbformat": 4,
 "nbformat_minor": 5
}
