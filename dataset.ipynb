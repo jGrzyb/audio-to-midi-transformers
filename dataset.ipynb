{
 "cells": [
  {
   "cell_type": "markdown",
   "id": "1dc3b18e",
   "metadata": {},
   "source": [
    "# Imports"
   ]
  },
  {
   "cell_type": "code",
   "execution_count": 140,
   "id": "01406e7d",
   "metadata": {},
   "outputs": [
    {
     "name": "stdout",
     "output_type": "stream",
     "text": [
      "Using device: cpu\n"
     ]
    }
   ],
   "source": [
    "import torch\n",
    "from torch import nn\n",
    "from torch.nn import functional as F\n",
    "from torch.utils.data import Dataset, DataLoader\n",
    "from torchvision import transforms\n",
    "from torch.nn.utils.rnn import pad_sequence\n",
    "\n",
    "import pandas as pd\n",
    "import os\n",
    "from PIL import Image\n",
    "import numpy as np\n",
    "import matplotlib.pyplot as plt\n",
    "\n",
    "device = torch.device(\"cuda\" if torch.cuda.is_available() else \"cpu\")\n",
    "print(f\"Using device: {device}\")"
   ]
  },
  {
   "cell_type": "markdown",
   "id": "9f8c9d8b",
   "metadata": {},
   "source": [
    "# Tokenizer"
   ]
  },
  {
   "cell_type": "code",
   "execution_count": 141,
   "id": "c979fb72",
   "metadata": {},
   "outputs": [],
   "source": [
    "class Tokenizer:\n",
    "    def __init__(self, time_count: int = 260, note_count: int = 100, vel_count: int = 2):\n",
    "        self.val_to_velo_id: dict = {i: i + 1 for i in range(vel_count)}\n",
    "        self.val_to_note_id: dict = {i: i + 1 + vel_count for i in range(note_count)}\n",
    "        self.val_to_time_id: dict = {i: i + 1 + vel_count + note_count for i in range(time_count)}\n",
    "\n",
    "        self.velo_id_to_val: dict = {v: k for k, v in self.val_to_velo_id.items()}\n",
    "        self.note_id_to_val: dict = {v: k for k, v in self.val_to_note_id.items()}\n",
    "        self.time_id_to_val: dict = {v: k for k, v in self.val_to_time_id.items()}\n",
    "        \n",
    "        self.id_to_token: dict = {\n",
    "            **{self.val_to_velo_id[i]: f'velo_{i}' for i in self.val_to_velo_id},\n",
    "            **{self.val_to_note_id[i]: f'note_{i}' for i in self.val_to_note_id},\n",
    "            **{self.val_to_time_id[i]: f'time_{i}' for i in self.val_to_time_id},\n",
    "            0: '<pad>',\n",
    "            vel_count + note_count + time_count + 1: '<bos>',\n",
    "            vel_count + note_count + time_count + 2: '<eos>'\n",
    "        }\n",
    "        \n",
    "        self.token_to_id: dict = {v: k for k, v in self.id_to_token.items()}\n",
    "    \n",
    "\n",
    "    def tuple_to_ids(self, tuple: tuple):\n",
    "        return [self.val_to_time_id[tuple[0]], self.val_to_note_id[tuple[1]], self.val_to_velo_id[tuple[2]]]\n",
    "    \n",
    "\n",
    "    def tuple_list_to_ids(self, tuple_list: list[tuple]):\n",
    "        l = []\n",
    "        for t in tuple_list:\n",
    "            l.extend(self.tuple_to_ids(t))\n",
    "        return l\n",
    "\n",
    "\n",
    "    def id_list_to_tuple_list(self, id_list: list[int]):\n",
    "        l = []\n",
    "        for i in range(0, len(id_list), 3):\n",
    "            if i + 3 > len(id_list):\n",
    "                break\n",
    "            t = []\n",
    "            for j, d in enumerate([self.time_id_to_val, self.note_id_to_val, self.velo_id_to_val]):\n",
    "                if min(d) <= id_list[i+j] <= max(d):\n",
    "                    t.append(d[id_list[i+j]])\n",
    "                else:\n",
    "                    t.append(-1)\n",
    "            l.append(tuple(t))\n",
    "        return l"
   ]
  },
  {
   "cell_type": "markdown",
   "id": "2dcb465d",
   "metadata": {},
   "source": [
    "# Dataset"
   ]
  },
  {
   "cell_type": "code",
   "execution_count": 142,
   "id": "dfc614c7",
   "metadata": {},
   "outputs": [],
   "source": [
    "class FrameDataset(Dataset):\n",
    "    def __init__(self, image_midi_path_pairs: list[tuple], tokenizer: Tokenizer, transform=None, max_len=600):\n",
    "        self.df = image_midi_path_pairs\n",
    "        self.tokenizer = tokenizer\n",
    "        self.max_len = max_len\n",
    "        self.transform = transform if transform else transforms.Compose([\n",
    "            transforms.ToTensor()\n",
    "        ])\n",
    "\n",
    "    \n",
    "    def __len__(self):\n",
    "        return len(self.df)\n",
    "\n",
    "\n",
    "    def __getitem__(self, idx):\n",
    "        image_path = self.df.iloc[idx]['image']\n",
    "        midi_path = self.df.iloc[idx]['midi']\n",
    "        \n",
    "        image = Image.open(image_path).convert('L')\n",
    "        image = self.transform(image)\n",
    "\n",
    "        midi = pd.read_csv(midi_path)\n",
    "        midi['time'] = midi['time'] // 10\n",
    "        midi['velocity'] = (midi['velocity'] > 0).astype(int)\n",
    "        midi = midi.values.tolist()\n",
    "        midi = self.tokenizer.tuple_list_to_ids(midi)\n",
    "        midi.insert(0, self.tokenizer.token_to_id['<bos>'])\n",
    "        midi.append(self.tokenizer.token_to_id['<eos>'])\n",
    "        midi.extend([self.tokenizer.token_to_id['<pad>']] * (self.max_len - len(midi)))\n",
    "        midi = torch.tensor(midi, dtype=torch.long)\n",
    "        \n",
    "        return image, midi"
   ]
  },
  {
   "cell_type": "markdown",
   "id": "c6914510",
   "metadata": {},
   "source": [
    "# Model"
   ]
  },
  {
   "cell_type": "code",
   "execution_count": 143,
   "id": "798c74db",
   "metadata": {},
   "outputs": [],
   "source": [
    "class PositionalEncoding(nn.Module):\n",
    "    def __init__(self, d_model: int, max_len: int = 600):\n",
    "        super(PositionalEncoding, self).__init__()\n",
    "        self.encoding = torch.zeros(max_len, d_model)\n",
    "        position = torch.arange(0, max_len, dtype=torch.float).unsqueeze(1)\n",
    "        div_term = torch.exp(torch.arange(0, d_model, 2).float() * -(np.log(10000.0) / d_model))\n",
    "        self.encoding[:, 0::2] = torch.sin(position * div_term)\n",
    "        self.encoding[:, 1::2] = torch.cos(position * div_term)\n",
    "        self.encoding = self.encoding.unsqueeze(0)\n",
    "    \n",
    "    def forward(self, x: torch.Tensor):\n",
    "        x = x + self.encoding[:, :x.size(1), :]\n",
    "        return x"
   ]
  },
  {
   "cell_type": "code",
   "execution_count": 144,
   "id": "ee567d8b",
   "metadata": {},
   "outputs": [],
   "source": [
    "class PianoTranscriber(nn.Module):\n",
    "    def __init__(self, input_size: int, vocab_size: int, d_model: int = 128, nhead: int = 2, num_layers: int = 2):\n",
    "        super(PianoTranscriber, self).__init__()\n",
    "\n",
    "        self.input_layer = nn.Linear(input_size, d_model)\n",
    "        self.pos_encoder = PositionalEncoding(d_model)\n",
    "\n",
    "        encoder_layer = nn.TransformerEncoderLayer(d_model, nhead)\n",
    "        self.encoder = nn.TransformerEncoder(encoder_layer, num_layers)\n",
    "\n",
    "        decoder_layer = nn.TransformerDecoderLayer(d_model, nhead)\n",
    "        self.decoder = nn.TransformerDecoder(decoder_layer, num_layers)\n",
    "\n",
    "        self.embedding = nn.Embedding(vocab_size, d_model)\n",
    "        self.output = nn.Linear(d_model, vocab_size)\n",
    "\n",
    "    def forward(self, src: torch.Tensor, tgt: torch.Tensor):\n",
    "        print(f'input: {src.shape}')\n",
    "        src = src.flatten(1, 2)\n",
    "        print(f'flattened: {src.shape}')\n",
    "        src = src.permute(0, 2, 1)\n",
    "        print(f'permuted: {src.shape}')\n",
    "        src = self.input_layer(src)\n",
    "        print(f'input layer: {src.shape}')\n",
    "        src = self.pos_encoder(src)\n",
    "        print(f'positional encoding: {src.shape}')\n",
    "        src = src.permute(1, 0, 2)\n",
    "        print(f'permuted: {src.shape}')\n",
    "        memory = self.encoder(src)\n",
    "        print(f'encoder: {memory.shape}')\n",
    "\n",
    "        print()\n",
    "        print(f'target: {tgt.shape}')\n",
    "        tgt = self.embedding(tgt)\n",
    "        print(f'embedding: {tgt.shape}')\n",
    "        tgt = self.pos_encoder(tgt)\n",
    "        print(f'positional encoding: {tgt.shape}')\n",
    "        tgt = tgt.permute(1, 0, 2)\n",
    "        print(f'permuted: {tgt.shape}')\n",
    "\n",
    "        tgt_mask = self.generate_square_subsequent_mask(tgt.size(0)).to(tgt.device)\n",
    "\n",
    "        output = self.decoder(tgt, memory, tgt_mask=tgt_mask)\n",
    "        print(f'decoder: {output.shape}')\n",
    "        output = self.output(output)\n",
    "        print(f'output: {output.shape}')\n",
    "        return output\n",
    "\n",
    "    def generate_square_subsequent_mask(self, sz):\n",
    "        return torch.triu(torch.full((sz, sz), float('-inf')), diagonal=1)"
   ]
  },
  {
   "cell_type": "markdown",
   "id": "14954739",
   "metadata": {},
   "source": [
    "# TMP"
   ]
  },
  {
   "cell_type": "code",
   "execution_count": 145,
   "id": "3b2bff1c",
   "metadata": {},
   "outputs": [
    {
     "data": {
      "text/html": [
       "<div>\n",
       "<style scoped>\n",
       "    .dataframe tbody tr th:only-of-type {\n",
       "        vertical-align: middle;\n",
       "    }\n",
       "\n",
       "    .dataframe tbody tr th {\n",
       "        vertical-align: top;\n",
       "    }\n",
       "\n",
       "    .dataframe thead th {\n",
       "        text-align: right;\n",
       "    }\n",
       "</style>\n",
       "<table border=\"1\" class=\"dataframe\">\n",
       "  <thead>\n",
       "    <tr style=\"text-align: right;\">\n",
       "      <th></th>\n",
       "      <th>image</th>\n",
       "      <th>midi</th>\n",
       "    </tr>\n",
       "  </thead>\n",
       "  <tbody>\n",
       "    <tr>\n",
       "      <th>0</th>\n",
       "      <td>dataset/252_0.png</td>\n",
       "      <td>dataset/252_0.csv</td>\n",
       "    </tr>\n",
       "    <tr>\n",
       "      <th>1</th>\n",
       "      <td>dataset/252_1.png</td>\n",
       "      <td>dataset/252_1.csv</td>\n",
       "    </tr>\n",
       "    <tr>\n",
       "      <th>2</th>\n",
       "      <td>dataset/252_2.png</td>\n",
       "      <td>dataset/252_2.csv</td>\n",
       "    </tr>\n",
       "    <tr>\n",
       "      <th>3</th>\n",
       "      <td>dataset/252_3.png</td>\n",
       "      <td>dataset/252_3.csv</td>\n",
       "    </tr>\n",
       "    <tr>\n",
       "      <th>4</th>\n",
       "      <td>dataset/252_4.png</td>\n",
       "      <td>dataset/252_4.csv</td>\n",
       "    </tr>\n",
       "    <tr>\n",
       "      <th>...</th>\n",
       "      <td>...</td>\n",
       "      <td>...</td>\n",
       "    </tr>\n",
       "    <tr>\n",
       "      <th>507</th>\n",
       "      <td>dataset/556_57.png</td>\n",
       "      <td>dataset/556_57.csv</td>\n",
       "    </tr>\n",
       "    <tr>\n",
       "      <th>508</th>\n",
       "      <td>dataset/556_58.png</td>\n",
       "      <td>dataset/556_58.csv</td>\n",
       "    </tr>\n",
       "    <tr>\n",
       "      <th>509</th>\n",
       "      <td>dataset/556_59.png</td>\n",
       "      <td>dataset/556_59.csv</td>\n",
       "    </tr>\n",
       "    <tr>\n",
       "      <th>510</th>\n",
       "      <td>dataset/556_60.png</td>\n",
       "      <td>dataset/556_60.csv</td>\n",
       "    </tr>\n",
       "    <tr>\n",
       "      <th>511</th>\n",
       "      <td>dataset/556_61.png</td>\n",
       "      <td>dataset/556_61.csv</td>\n",
       "    </tr>\n",
       "  </tbody>\n",
       "</table>\n",
       "<p>512 rows × 2 columns</p>\n",
       "</div>"
      ],
      "text/plain": [
       "                  image                midi\n",
       "0     dataset/252_0.png   dataset/252_0.csv\n",
       "1     dataset/252_1.png   dataset/252_1.csv\n",
       "2     dataset/252_2.png   dataset/252_2.csv\n",
       "3     dataset/252_3.png   dataset/252_3.csv\n",
       "4     dataset/252_4.png   dataset/252_4.csv\n",
       "..                  ...                 ...\n",
       "507  dataset/556_57.png  dataset/556_57.csv\n",
       "508  dataset/556_58.png  dataset/556_58.csv\n",
       "509  dataset/556_59.png  dataset/556_59.csv\n",
       "510  dataset/556_60.png  dataset/556_60.csv\n",
       "511  dataset/556_61.png  dataset/556_61.csv\n",
       "\n",
       "[512 rows x 2 columns]"
      ]
     },
     "execution_count": 145,
     "metadata": {},
     "output_type": "execute_result"
    }
   ],
   "source": [
    "df = pd.read_csv('dataset.csv')\n",
    "df['image'] = df['image'].apply(lambda x: os.path.join('dataset', x))\n",
    "df['midi'] = df['midi'].apply(lambda x: os.path.join('dataset', x))\n",
    "df"
   ]
  },
  {
   "cell_type": "code",
   "execution_count": 146,
   "id": "ff2687d5",
   "metadata": {},
   "outputs": [],
   "source": [
    "transform = transforms.Compose([\n",
    "    transforms.Resize((128, 64)),\n",
    "    transforms.ToTensor(),\n",
    "])\n",
    "tokenizer = Tokenizer()\n",
    "dataset = FrameDataset(df, tokenizer, transform=transform, max_len=600)\n",
    "loader = DataLoader(dataset, batch_size=2)\n",
    "for i, (image, midi) in enumerate(loader):\n",
    "    # plt.imshow(image[0].permute(1, 2, 0), origin='lower')\n",
    "    if i == 0:\n",
    "        break"
   ]
  },
  {
   "cell_type": "code",
   "execution_count": 147,
   "id": "cd9c51d1",
   "metadata": {},
   "outputs": [
    {
     "name": "stdout",
     "output_type": "stream",
     "text": [
      "input: torch.Size([2, 1, 128, 64])\n",
      "flattened: torch.Size([2, 128, 64])\n",
      "permuted: torch.Size([2, 64, 128])\n",
      "input layer: torch.Size([2, 64, 128])\n",
      "positional encoding: torch.Size([2, 64, 128])\n",
      "permuted: torch.Size([64, 2, 128])\n",
      "encoder: torch.Size([64, 2, 128])\n",
      "\n",
      "target: torch.Size([2, 600])\n",
      "embedding: torch.Size([2, 600, 128])\n",
      "positional encoding: torch.Size([2, 600, 128])\n",
      "permuted: torch.Size([600, 2, 128])\n"
     ]
    },
    {
     "name": "stdout",
     "output_type": "stream",
     "text": [
      "decoder: torch.Size([600, 2, 128])\n",
      "output: torch.Size([600, 2, 365])\n",
      "600\n",
      "[18, 18, 132, 277, 124, 148, 277, 249, 124, 277, 132, 68, 63, 37, 68, 124, 130, 132, 130, 342, 314, 308, 37, 286, 122, 132, 286, 164, 277, 132, 277, 196, 286, 130, 213, 186, 164, 318, 22, 164, 213, 27, 164, 249, 77, 53, 124, 132, 63, 124, 9, 164, 169, 105, 130, 63, 318, 63, 170, 124, 130, 130, 190, 164, 72, 318, 130, 277, 130, 277, 88, 105, 164, 196, 164, 130, 360, 124, 164, 139, 124, 130, 124, 130, 130, 347, 105, 318, 347, 126, 164, 22, 22, 227, 168, 124, 308, 124, 12, 53, 64, 126, 22, 22, 164, 164, 325, 227, 23, 325, 213, 31, 213, 213, 213, 213, 213, 213, 213, 308, 308, 308, 308, 40, 213, 213, 308, 318, 146, 146, 41, 308, 308, 130, 308, 308, 40, 146, 213, 318, 318, 213, 213, 213, 213, 213, 213, 41, 213, 130, 213, 213, 41, 76, 76, 213, 213, 213, 41, 318, 41, 318, 318, 318, 318, 308, 41, 41, 41, 130, 40, 130, 237, 230, 130, 318, 308, 318, 40, 318, 318, 318, 318, 237, 318, 308, 318, 103, 318, 318, 237, 318, 308, 318, 308, 308, 40, 308, 41, 308, 41, 41, 41, 40, 40, 124, 308, 308, 308, 40, 56, 310, 56, 282, 40, 318, 40, 40, 41, 40, 40, 40, 41, 41, 40, 41, 40, 40, 237, 40, 56, 41, 282, 282, 40, 41, 97, 95, 41, 75, 213, 40, 213, 40, 40, 40, 40, 40, 237, 237, 237, 308, 308, 308, 308, 56, 308, 308, 308, 308, 56, 308, 308, 213, 308, 308, 308, 70, 308, 75, 308, 308, 308, 308, 213, 308, 31, 213, 308, 213, 213, 213, 308, 41, 308, 56, 41, 41, 41, 41, 56, 40, 41, 40, 40, 40, 40, 40, 40, 40, 40, 40, 40, 40, 40, 40, 237, 40, 237, 40, 173, 70, 237, 237, 237, 237, 237, 237, 237, 237, 40, 257, 237, 237, 237, 40, 237, 146, 237, 40, 56, 237, 237, 56, 56, 56, 237, 56, 56, 146, 56, 56, 56, 56, 308, 308, 237, 41, 237, 237, 237, 237, 308, 308, 264, 237, 41, 41, 41, 40, 237, 237, 41, 237, 237, 237, 237, 237, 31, 237, 308, 308, 237, 237, 237, 237, 70, 308, 308, 308, 237, 308, 237, 237, 237, 173, 237, 173, 237, 308, 237, 237, 237, 237, 237, 237, 237, 237, 237, 237, 237, 237, 308, 237, 237, 237, 237, 237, 237, 237, 237, 237, 237, 237, 237, 237, 237, 308, 308, 308, 308, 308, 237, 237, 237, 237, 237, 237, 237, 237, 237, 237, 237, 237, 237, 237, 237, 237, 237, 237, 237, 237, 237, 70, 31, 308, 41, 237, 237, 237, 237, 237, 237, 237, 237, 318, 237, 318, 318, 237, 237, 237, 40, 40, 237, 40, 237, 237, 308, 237, 237, 237, 282, 318, 318, 318, 308, 97, 308, 40, 308, 237, 31, 213, 97, 282, 282, 282, 31, 70, 31, 31, 237, 70, 308, 308, 308, 308, 308, 237, 31, 31, 308, 308, 237, 308, 308, 237, 237, 31, 308, 31, 130, 31, 40, 237, 237, 237, 308, 237, 308, 40, 308, 308, 308, 41, 237, 237, 237, 237, 237, 237, 237, 41, 41, 41, 41, 237, 237, 237, 237, 237, 237, 237, 237, 56, 237, 237, 237, 237, 237, 237, 237, 237, 237, 308, 237, 237, 237, 237, 237, 237, 237, 237, 237, 237, 237, 237, 237, 237, 237, 237, 40, 237, 237, 237, 237, 308, 308, 56, 56, 40, 308, 308, 308, 237, 237, 237, 237, 282, 282, 237, 237, 237, 237, 308, 308, 40, 237, 308]\n",
      "[(-1, 15, -1), (174, -1, -1), (174, -1, -1), (174, -1, -1), (-1, 34, -1), (21, -1, -1), (27, -1, -1), (205, 34, -1), (19, -1, -1), (61, -1, -1), (174, -1, -1), (27, -1, -1), (61, -1, -1), (61, -1, -1), (61, -1, -1), (-1, -1, -1), (-1, -1, -1), (61, -1, -1), (27, 60, -1), (-1, -1, -1), (27, -1, -1), (61, 69, -1), (27, -1, -1), (174, 85, -1), (61, -1, -1), (27, -1, -1), (61, -1, -1), (27, -1, -1), (27, -1, -1), (215, -1, -1), (61, 19, -1), (124, -1, -1), (205, -1, -1), (-1, 61, -1), (-1, 19, -1), (61, -1, -1), (-1, -1, -1), (-1, -1, -1), (110, -1, -1), (110, -1, -1), (205, -1, -1), (-1, -1, -1), (205, -1, -1), (43, 38, -1), (205, -1, -1), (205, 37, -1), (110, -1, -1), (110, -1, -1), (110, -1, -1), (-1, -1, -1), (110, -1, -1), (-1, 73, -1), (110, -1, -1), (215, 38, -1), (215, -1, -1), (205, 38, -1), (-1, -1, -1), (27, -1, -1), (27, -1, -1), (215, 37, -1), (215, -1, -1), (134, -1, -1), (215, -1, -1), (215, -1, -1), (205, -1, -1), (205, 37, -1), (-1, -1, -1), (-1, 38, -1), (-1, -1, -1), (205, -1, -1), (-1, -1, -1), (179, 37, -1), (-1, 37, -1), (-1, 37, -1), (-1, 38, -1), (-1, 37, -1), (134, 37, -1), (-1, -1, -1), (-1, 38, -1), (-1, 38, -1), (110, 37, -1), (-1, 37, -1), (-1, 37, -1), (134, -1, -1), (205, -1, -1), (-1, -1, -1), (205, -1, -1), (205, -1, -1), (205, -1, -1), (-1, -1, -1), (205, -1, -1), (205, -1, -1), (-1, -1, -1), (110, -1, -1), (205, 38, -1), (-1, 38, -1), (-1, 38, -1), (-1, 38, -1), (-1, 37, -1), (-1, 37, -1), (-1, 37, -1), (-1, 37, -1), (134, 37, -1), (-1, -1, -1), (134, -1, -1), (134, -1, -1), (134, -1, -1), (154, -1, -1), (134, 37, -1), (43, -1, -1), (-1, -1, -1), (-1, 53, -1), (134, 53, -1), (43, 53, -1), (-1, 53, -1), (205, -1, -1), (134, -1, -1), (134, -1, -1), (161, -1, -1), (-1, 38, -1), (134, -1, -1), (134, -1, -1), (134, -1, -1), (134, -1, -1), (134, -1, -1), (134, 67, -1), (205, -1, -1), (205, -1, -1), (134, -1, -1), (70, -1, -1), (134, -1, -1), (134, -1, -1), (134, -1, -1), (134, -1, -1), (205, -1, -1), (134, -1, -1), (134, -1, -1), (134, -1, -1), (134, -1, -1), (205, -1, -1), (205, -1, -1), (134, -1, -1), (134, -1, -1), (134, -1, -1), (134, -1, -1), (134, -1, -1), (134, -1, -1), (134, -1, -1), (-1, -1, -1), (134, -1, -1), (134, -1, -1), (134, -1, -1), (134, -1, -1), (134, -1, -1), (-1, 37, -1), (-1, -1, -1), (205, -1, -1), (134, -1, -1), (215, -1, -1), (-1, -1, -1), (205, -1, -1), (110, 94, -1), (179, -1, -1), (-1, 28, -1), (134, 67, -1), (205, -1, -1), (205, -1, -1), (-1, -1, -1), (134, -1, -1), (134, -1, -1), (205, 28, -1), (-1, 37, -1), (134, -1, -1), (134, -1, -1), (205, -1, -1), (-1, -1, -1), (134, -1, -1), (134, -1, -1), (-1, 38, -1), (134, -1, -1), (134, -1, -1), (134, -1, -1), (134, -1, -1), (134, -1, -1), (134, -1, -1), (205, -1, -1), (134, -1, -1), (134, -1, -1), (134, -1, -1), (134, -1, -1), (134, -1, -1), (134, -1, -1), (134, -1, -1), (-1, 53, -1), (205, -1, -1), (134, -1, -1), (134, -1, -1), (134, -1, -1), (134, -1, -1), (-1, -1, -1)]\n"
     ]
    },
    {
     "name": "stderr",
     "output_type": "stream",
     "text": [
      "/home/jakub/miniconda3/envs/midi/lib/python3.13/site-packages/torch/nn/modules/transformer.py:385: UserWarning: enable_nested_tensor is True, but self.use_nested_tensor is False because encoder_layer.self_attn.batch_first was not True(use batch_first for better inference performance)\n",
      "  warnings.warn(\n"
     ]
    }
   ],
   "source": [
    "model = PianoTranscriber(128, len(tokenizer.id_to_token)).to(device)\n",
    "\n",
    "for i, (image, midi) in enumerate(loader):\n",
    "    image = image.to(device)\n",
    "    midi = midi.to(device)\n",
    "    output = model(image, midi)\n",
    "    output = output.permute(1, 0, 2)\n",
    "    output = output.argmax(dim=2)\n",
    "    output = output[0]\n",
    "    output = output.cpu().numpy().tolist()\n",
    "    print(len(output))\n",
    "    print(output)\n",
    "    output = tokenizer.id_list_to_tuple_list(output)\n",
    "    print(output)\n",
    "    break"
   ]
  }
 ],
 "metadata": {
  "kernelspec": {
   "display_name": "midi",
   "language": "python",
   "name": "python3"
  },
  "language_info": {
   "codemirror_mode": {
    "name": "ipython",
    "version": 3
   },
   "file_extension": ".py",
   "mimetype": "text/x-python",
   "name": "python",
   "nbconvert_exporter": "python",
   "pygments_lexer": "ipython3",
   "version": "3.13.2"
  }
 },
 "nbformat": 4,
 "nbformat_minor": 5
}
